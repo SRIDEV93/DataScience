{
  "nbformat": 4,
  "nbformat_minor": 0,
  "metadata": {
    "colab": {
      "provenance": [],
      "authorship_tag": "ABX9TyPqqydHgMOCKRSDr4IHZzNd"
    },
    "kernelspec": {
      "name": "python3",
      "display_name": "Python 3"
    },
    "language_info": {
      "name": "python"
    }
  },
  "cells": [
    {
      "cell_type": "markdown",
      "source": [
        "#Problem Statement\n",
        "\n",
        "As far as industry is concerned, the major challenge is finding the right talent with minimal resources over the internet in a shortest amount of time. Bringing efficiency in the entire process requires overcoming three challenges.\n",
        "\n",
        "* Making a distinction between the right and the wrong candidates\n",
        "\n",
        "* Analyzing CVs of candidates\n",
        "\n",
        "* Making sure candidates are capable of doing the job before hiring them.\n",
        "\n",
        "\n",
        "# Objective\n",
        "\n",
        "* For the purpose of extracting the required information from the resumes, we need a resume parser that uses NLP.\n",
        "\n",
        "* In order to facilitate the selection of resumes for recruiters wothout having to spend time going through each resume individually.\n",
        "\n",
        "* Assisting the candidates in finding and applying for the most suitable job positions."
      ],
      "metadata": {
        "id": "idNA9uj4fuqW"
      }
    },
    {
      "cell_type": "markdown",
      "source": [
        "#Importing Libraries"
      ],
      "metadata": {
        "id": "ovGtHc7SezT0"
      }
    },
    {
      "cell_type": "code",
      "execution_count": null,
      "metadata": {
        "colab": {
          "base_uri": "https://localhost:8080/"
        },
        "id": "L3JwJLA5eoMN",
        "outputId": "70646b13-f97e-4eec-b870-0f637383dd0b"
      },
      "outputs": [
        {
          "output_type": "stream",
          "name": "stderr",
          "text": [
            "[nltk_data] Downloading package stopwords to /root/nltk_data...\n",
            "[nltk_data]   Package stopwords is already up-to-date!\n"
          ]
        }
      ],
      "source": [
        "import pandas as pd\n",
        "import numpy as np\n",
        "import warnings\n",
        "warnings.filterwarnings(\"ignore\")\n",
        "import spacy\n",
        "import pickle\n",
        "import random\n",
        "\n",
        "from spacy import displacy\n",
        "import spacy\n",
        "from spacy.lang.en.stop_words import STOP_WORDS\n",
        "import string\n",
        "from sklearn.feature_extraction.text import TfidfVectorizer, CountVectorizer\n",
        "from sklearn.pipeline import Pipeline\n",
        "from sklearn.model_selection import train_test_split\n",
        "from sklearn.metrics import accuracy_score, classification_report, confusion_matrix\n",
        "\n",
        "import re\n",
        "import nltk\n",
        "nltk.download(\"stopwords\")\n",
        "from nltk.corpus import stopwords\n",
        "stop = stopwords.words('english')\n",
        "from spacy.matcher import Matcher\n",
        "from nltk.corpus import stopwords\n",
        "from nltk.stem.porter import PorterStemmer\n",
        "from nltk.stem import WordNetLemmatizer\n",
        "nlp = spacy.load(\"en_core_web_sm\")"
      ]
    },
    {
      "cell_type": "markdown",
      "source": [
        "#Import Dataset\n",
        "\n",
        "Here I am Using Kaggle Dataset"
      ],
      "metadata": {
        "id": "HTMktDlYNrc8"
      }
    },
    {
      "cell_type": "code",
      "source": [
        "Resumes = pd.read_csv(\"UpdatedResumeDataSet.csv\")"
      ],
      "metadata": {
        "id": "NnhHkhFOev7y"
      },
      "execution_count": null,
      "outputs": []
    },
    {
      "cell_type": "code",
      "source": [
        "Resumes.tail()"
      ],
      "metadata": {
        "colab": {
          "base_uri": "https://localhost:8080/",
          "height": 206
        },
        "id": "VVyNRwffev9l",
        "outputId": "efcc2f61-6bb3-4519-dd9a-fc1bd9574850"
      },
      "execution_count": null,
      "outputs": [
        {
          "output_type": "execute_result",
          "data": {
            "text/plain": [
              "    Category                                             Resume\n",
              "957  Testing  Computer Skills: â¢ Proficient in MS office (...\n",
              "958  Testing  â Willingness to accept the challenges. â ...\n",
              "959  Testing  PERSONAL SKILLS â¢ Quick learner, â¢ Eagerne...\n",
              "960  Testing  COMPUTER SKILLS & SOFTWARE KNOWLEDGE MS-Power ...\n",
              "961  Testing  Skill Set OS Windows XP/7/8/8.1/10 Database MY..."
            ],
            "text/html": [
              "\n",
              "  <div id=\"df-f9a3c409-4361-4fed-9c2c-8db7449891b5\">\n",
              "    <div class=\"colab-df-container\">\n",
              "      <div>\n",
              "<style scoped>\n",
              "    .dataframe tbody tr th:only-of-type {\n",
              "        vertical-align: middle;\n",
              "    }\n",
              "\n",
              "    .dataframe tbody tr th {\n",
              "        vertical-align: top;\n",
              "    }\n",
              "\n",
              "    .dataframe thead th {\n",
              "        text-align: right;\n",
              "    }\n",
              "</style>\n",
              "<table border=\"1\" class=\"dataframe\">\n",
              "  <thead>\n",
              "    <tr style=\"text-align: right;\">\n",
              "      <th></th>\n",
              "      <th>Category</th>\n",
              "      <th>Resume</th>\n",
              "    </tr>\n",
              "  </thead>\n",
              "  <tbody>\n",
              "    <tr>\n",
              "      <th>957</th>\n",
              "      <td>Testing</td>\n",
              "      <td>Computer Skills: â¢ Proficient in MS office (...</td>\n",
              "    </tr>\n",
              "    <tr>\n",
              "      <th>958</th>\n",
              "      <td>Testing</td>\n",
              "      <td>â Willingness to accept the challenges. â ...</td>\n",
              "    </tr>\n",
              "    <tr>\n",
              "      <th>959</th>\n",
              "      <td>Testing</td>\n",
              "      <td>PERSONAL SKILLS â¢ Quick learner, â¢ Eagerne...</td>\n",
              "    </tr>\n",
              "    <tr>\n",
              "      <th>960</th>\n",
              "      <td>Testing</td>\n",
              "      <td>COMPUTER SKILLS &amp; SOFTWARE KNOWLEDGE MS-Power ...</td>\n",
              "    </tr>\n",
              "    <tr>\n",
              "      <th>961</th>\n",
              "      <td>Testing</td>\n",
              "      <td>Skill Set OS Windows XP/7/8/8.1/10 Database MY...</td>\n",
              "    </tr>\n",
              "  </tbody>\n",
              "</table>\n",
              "</div>\n",
              "      <button class=\"colab-df-convert\" onclick=\"convertToInteractive('df-f9a3c409-4361-4fed-9c2c-8db7449891b5')\"\n",
              "              title=\"Convert this dataframe to an interactive table.\"\n",
              "              style=\"display:none;\">\n",
              "        \n",
              "  <svg xmlns=\"http://www.w3.org/2000/svg\" height=\"24px\"viewBox=\"0 0 24 24\"\n",
              "       width=\"24px\">\n",
              "    <path d=\"M0 0h24v24H0V0z\" fill=\"none\"/>\n",
              "    <path d=\"M18.56 5.44l.94 2.06.94-2.06 2.06-.94-2.06-.94-.94-2.06-.94 2.06-2.06.94zm-11 1L8.5 8.5l.94-2.06 2.06-.94-2.06-.94L8.5 2.5l-.94 2.06-2.06.94zm10 10l.94 2.06.94-2.06 2.06-.94-2.06-.94-.94-2.06-.94 2.06-2.06.94z\"/><path d=\"M17.41 7.96l-1.37-1.37c-.4-.4-.92-.59-1.43-.59-.52 0-1.04.2-1.43.59L10.3 9.45l-7.72 7.72c-.78.78-.78 2.05 0 2.83L4 21.41c.39.39.9.59 1.41.59.51 0 1.02-.2 1.41-.59l7.78-7.78 2.81-2.81c.8-.78.8-2.07 0-2.86zM5.41 20L4 18.59l7.72-7.72 1.47 1.35L5.41 20z\"/>\n",
              "  </svg>\n",
              "      </button>\n",
              "      \n",
              "  <style>\n",
              "    .colab-df-container {\n",
              "      display:flex;\n",
              "      flex-wrap:wrap;\n",
              "      gap: 12px;\n",
              "    }\n",
              "\n",
              "    .colab-df-convert {\n",
              "      background-color: #E8F0FE;\n",
              "      border: none;\n",
              "      border-radius: 50%;\n",
              "      cursor: pointer;\n",
              "      display: none;\n",
              "      fill: #1967D2;\n",
              "      height: 32px;\n",
              "      padding: 0 0 0 0;\n",
              "      width: 32px;\n",
              "    }\n",
              "\n",
              "    .colab-df-convert:hover {\n",
              "      background-color: #E2EBFA;\n",
              "      box-shadow: 0px 1px 2px rgba(60, 64, 67, 0.3), 0px 1px 3px 1px rgba(60, 64, 67, 0.15);\n",
              "      fill: #174EA6;\n",
              "    }\n",
              "\n",
              "    [theme=dark] .colab-df-convert {\n",
              "      background-color: #3B4455;\n",
              "      fill: #D2E3FC;\n",
              "    }\n",
              "\n",
              "    [theme=dark] .colab-df-convert:hover {\n",
              "      background-color: #434B5C;\n",
              "      box-shadow: 0px 1px 3px 1px rgba(0, 0, 0, 0.15);\n",
              "      filter: drop-shadow(0px 1px 2px rgba(0, 0, 0, 0.3));\n",
              "      fill: #FFFFFF;\n",
              "    }\n",
              "  </style>\n",
              "\n",
              "      <script>\n",
              "        const buttonEl =\n",
              "          document.querySelector('#df-f9a3c409-4361-4fed-9c2c-8db7449891b5 button.colab-df-convert');\n",
              "        buttonEl.style.display =\n",
              "          google.colab.kernel.accessAllowed ? 'block' : 'none';\n",
              "\n",
              "        async function convertToInteractive(key) {\n",
              "          const element = document.querySelector('#df-f9a3c409-4361-4fed-9c2c-8db7449891b5');\n",
              "          const dataTable =\n",
              "            await google.colab.kernel.invokeFunction('convertToInteractive',\n",
              "                                                     [key], {});\n",
              "          if (!dataTable) return;\n",
              "\n",
              "          const docLinkHtml = 'Like what you see? Visit the ' +\n",
              "            '<a target=\"_blank\" href=https://colab.research.google.com/notebooks/data_table.ipynb>data table notebook</a>'\n",
              "            + ' to learn more about interactive tables.';\n",
              "          element.innerHTML = '';\n",
              "          dataTable['output_type'] = 'display_data';\n",
              "          await google.colab.output.renderOutput(dataTable, element);\n",
              "          const docLink = document.createElement('div');\n",
              "          docLink.innerHTML = docLinkHtml;\n",
              "          element.appendChild(docLink);\n",
              "        }\n",
              "      </script>\n",
              "    </div>\n",
              "  </div>\n",
              "  "
            ]
          },
          "metadata": {},
          "execution_count": 3
        }
      ]
    },
    {
      "cell_type": "markdown",
      "source": [
        "#EDA"
      ],
      "metadata": {
        "id": "PjMJqP6SOz1q"
      }
    },
    {
      "cell_type": "code",
      "source": [
        "Resumes.info()"
      ],
      "metadata": {
        "colab": {
          "base_uri": "https://localhost:8080/"
        },
        "id": "9T4FhPinewDX",
        "outputId": "93273d5c-6e4e-4011-c79e-daeef0b97c1b"
      },
      "execution_count": null,
      "outputs": [
        {
          "output_type": "stream",
          "name": "stdout",
          "text": [
            "<class 'pandas.core.frame.DataFrame'>\n",
            "RangeIndex: 962 entries, 0 to 961\n",
            "Data columns (total 2 columns):\n",
            " #   Column    Non-Null Count  Dtype \n",
            "---  ------    --------------  ----- \n",
            " 0   Category  962 non-null    object\n",
            " 1   Resume    962 non-null    object\n",
            "dtypes: object(2)\n",
            "memory usage: 15.2+ KB\n"
          ]
        }
      ]
    },
    {
      "cell_type": "code",
      "source": [
        "Resumes.isnull().sum()"
      ],
      "metadata": {
        "colab": {
          "base_uri": "https://localhost:8080/"
        },
        "id": "Q0rTZyZuewHI",
        "outputId": "81d83dd1-66e6-4bfa-d16b-b70a13d27c4a"
      },
      "execution_count": null,
      "outputs": [
        {
          "output_type": "execute_result",
          "data": {
            "text/plain": [
              "Category    0\n",
              "Resume      0\n",
              "dtype: int64"
            ]
          },
          "metadata": {},
          "execution_count": 5
        }
      ]
    },
    {
      "cell_type": "markdown",
      "source": [
        "Finding the length, mean, median, standard deviation and skewness of the characters in the initial dataset before cleaning"
      ],
      "metadata": {
        "id": "MxzoTowBP1Ey"
      }
    },
    {
      "cell_type": "code",
      "source": [
        "# Initial_characters = Resumes['Resume'].apply(len)\n",
        "# Initial_characters"
      ],
      "metadata": {
        "id": "tap2SZn5ewIj"
      },
      "execution_count": null,
      "outputs": []
    },
    {
      "cell_type": "code",
      "source": [
        "# print(\"Total Characters in Resumes: \", Initial_characters.sum())\n",
        "# print(\"Mean of Characters in Resumes: \", Initial_characters.mean())\n",
        "# print(\"Median of Characters in Resumes: \", Initial_characters.median())\n",
        "# print(\"Standard Deviation of Characters in Resumes: \", Initial_characters.std())\n",
        "# print(\"Skew of characters in Resumes: \", Initial_characters.skew())"
      ],
      "metadata": {
        "id": "jKBX0r76ewMp"
      },
      "execution_count": null,
      "outputs": []
    },
    {
      "cell_type": "markdown",
      "source": [
        "Finding the length, mean, median, standard deviation and skew of the Words in the initial dataset before cleaning.\n",
        "\n",
        "**apply(lambda x: )**\n",
        "apply() can be used with python lambda to execute expression. A lambda function in python is a small anonymous function that can take any number of arguments and execute an expression"
      ],
      "metadata": {
        "id": "elrJU4jqRnOH"
      }
    },
    {
      "cell_type": "code",
      "source": [
        "# Initial_words = Resumes['Resume'].apply(lambda x: len(str(x). split(' ')))\n",
        "# Initial_words"
      ],
      "metadata": {
        "id": "D4TX7YoHewO6"
      },
      "execution_count": null,
      "outputs": []
    },
    {
      "cell_type": "code",
      "source": [
        "# print('Total words in Resumes: ', Initial_words.sum())\n",
        "# print('Mean of Words in Resumes: ', Initial_words.mean())\n",
        "# print('Median of Words in Resumes: ', Initial_words.median())\n",
        "# print('Standard deviation of Words in Resumes: ', Initial_words.std())\n",
        "# print('Skew of Words in Resumes: ', Initial_words.skew())"
      ],
      "metadata": {
        "id": "gwJXrsaiewSP"
      },
      "execution_count": null,
      "outputs": []
    },
    {
      "cell_type": "markdown",
      "source": [
        "#Data Preprocessing\n",
        "\n",
        "Here I am performing LabelEncoder which I imported from sklearn.preprocessing. The purpose of LabelEncoder is to Normalize labels. It can be used to transform non-numerical labels to numerical labels by using this fit label encoder. \n",
        "\n",
        "Now, I am encoding the Category label from string datatype to numerical datatype."
      ],
      "metadata": {
        "id": "85-yyS4XX3cD"
      }
    },
    {
      "cell_type": "code",
      "source": [
        "from sklearn.preprocessing import LabelEncoder\n",
        "le_encoder = LabelEncoder()\n",
        "Resumes[\"Encoded_Skill\"] = le_encoder.fit_transform(Resumes[\"Category\"])\n",
        "Resumes.head()"
      ],
      "metadata": {
        "colab": {
          "base_uri": "https://localhost:8080/",
          "height": 206
        },
        "id": "YcAsoGo2ewTy",
        "outputId": "88398b95-3fa1-4258-a659-85f1263903a5"
      },
      "execution_count": null,
      "outputs": [
        {
          "output_type": "execute_result",
          "data": {
            "text/plain": [
              "       Category                                             Resume  \\\n",
              "0  Data Science  Skills * Programming Languages: Python (pandas...   \n",
              "1  Data Science  Education Details \\r\\nMay 2013 to May 2017 B.E...   \n",
              "2  Data Science  Areas of Interest Deep Learning, Control Syste...   \n",
              "3  Data Science  Skills â¢ R â¢ Python â¢ SAP HANA â¢ Table...   \n",
              "4  Data Science  Education Details \\r\\n MCA   YMCAUST,  Faridab...   \n",
              "\n",
              "   Encoded_Skill  \n",
              "0              6  \n",
              "1              6  \n",
              "2              6  \n",
              "3              6  \n",
              "4              6  "
            ],
            "text/html": [
              "\n",
              "  <div id=\"df-0a0cf47b-72c8-458e-b4e7-02ac1376c5e6\">\n",
              "    <div class=\"colab-df-container\">\n",
              "      <div>\n",
              "<style scoped>\n",
              "    .dataframe tbody tr th:only-of-type {\n",
              "        vertical-align: middle;\n",
              "    }\n",
              "\n",
              "    .dataframe tbody tr th {\n",
              "        vertical-align: top;\n",
              "    }\n",
              "\n",
              "    .dataframe thead th {\n",
              "        text-align: right;\n",
              "    }\n",
              "</style>\n",
              "<table border=\"1\" class=\"dataframe\">\n",
              "  <thead>\n",
              "    <tr style=\"text-align: right;\">\n",
              "      <th></th>\n",
              "      <th>Category</th>\n",
              "      <th>Resume</th>\n",
              "      <th>Encoded_Skill</th>\n",
              "    </tr>\n",
              "  </thead>\n",
              "  <tbody>\n",
              "    <tr>\n",
              "      <th>0</th>\n",
              "      <td>Data Science</td>\n",
              "      <td>Skills * Programming Languages: Python (pandas...</td>\n",
              "      <td>6</td>\n",
              "    </tr>\n",
              "    <tr>\n",
              "      <th>1</th>\n",
              "      <td>Data Science</td>\n",
              "      <td>Education Details \\r\\nMay 2013 to May 2017 B.E...</td>\n",
              "      <td>6</td>\n",
              "    </tr>\n",
              "    <tr>\n",
              "      <th>2</th>\n",
              "      <td>Data Science</td>\n",
              "      <td>Areas of Interest Deep Learning, Control Syste...</td>\n",
              "      <td>6</td>\n",
              "    </tr>\n",
              "    <tr>\n",
              "      <th>3</th>\n",
              "      <td>Data Science</td>\n",
              "      <td>Skills â¢ R â¢ Python â¢ SAP HANA â¢ Table...</td>\n",
              "      <td>6</td>\n",
              "    </tr>\n",
              "    <tr>\n",
              "      <th>4</th>\n",
              "      <td>Data Science</td>\n",
              "      <td>Education Details \\r\\n MCA   YMCAUST,  Faridab...</td>\n",
              "      <td>6</td>\n",
              "    </tr>\n",
              "  </tbody>\n",
              "</table>\n",
              "</div>\n",
              "      <button class=\"colab-df-convert\" onclick=\"convertToInteractive('df-0a0cf47b-72c8-458e-b4e7-02ac1376c5e6')\"\n",
              "              title=\"Convert this dataframe to an interactive table.\"\n",
              "              style=\"display:none;\">\n",
              "        \n",
              "  <svg xmlns=\"http://www.w3.org/2000/svg\" height=\"24px\"viewBox=\"0 0 24 24\"\n",
              "       width=\"24px\">\n",
              "    <path d=\"M0 0h24v24H0V0z\" fill=\"none\"/>\n",
              "    <path d=\"M18.56 5.44l.94 2.06.94-2.06 2.06-.94-2.06-.94-.94-2.06-.94 2.06-2.06.94zm-11 1L8.5 8.5l.94-2.06 2.06-.94-2.06-.94L8.5 2.5l-.94 2.06-2.06.94zm10 10l.94 2.06.94-2.06 2.06-.94-2.06-.94-.94-2.06-.94 2.06-2.06.94z\"/><path d=\"M17.41 7.96l-1.37-1.37c-.4-.4-.92-.59-1.43-.59-.52 0-1.04.2-1.43.59L10.3 9.45l-7.72 7.72c-.78.78-.78 2.05 0 2.83L4 21.41c.39.39.9.59 1.41.59.51 0 1.02-.2 1.41-.59l7.78-7.78 2.81-2.81c.8-.78.8-2.07 0-2.86zM5.41 20L4 18.59l7.72-7.72 1.47 1.35L5.41 20z\"/>\n",
              "  </svg>\n",
              "      </button>\n",
              "      \n",
              "  <style>\n",
              "    .colab-df-container {\n",
              "      display:flex;\n",
              "      flex-wrap:wrap;\n",
              "      gap: 12px;\n",
              "    }\n",
              "\n",
              "    .colab-df-convert {\n",
              "      background-color: #E8F0FE;\n",
              "      border: none;\n",
              "      border-radius: 50%;\n",
              "      cursor: pointer;\n",
              "      display: none;\n",
              "      fill: #1967D2;\n",
              "      height: 32px;\n",
              "      padding: 0 0 0 0;\n",
              "      width: 32px;\n",
              "    }\n",
              "\n",
              "    .colab-df-convert:hover {\n",
              "      background-color: #E2EBFA;\n",
              "      box-shadow: 0px 1px 2px rgba(60, 64, 67, 0.3), 0px 1px 3px 1px rgba(60, 64, 67, 0.15);\n",
              "      fill: #174EA6;\n",
              "    }\n",
              "\n",
              "    [theme=dark] .colab-df-convert {\n",
              "      background-color: #3B4455;\n",
              "      fill: #D2E3FC;\n",
              "    }\n",
              "\n",
              "    [theme=dark] .colab-df-convert:hover {\n",
              "      background-color: #434B5C;\n",
              "      box-shadow: 0px 1px 3px 1px rgba(0, 0, 0, 0.15);\n",
              "      filter: drop-shadow(0px 1px 2px rgba(0, 0, 0, 0.3));\n",
              "      fill: #FFFFFF;\n",
              "    }\n",
              "  </style>\n",
              "\n",
              "      <script>\n",
              "        const buttonEl =\n",
              "          document.querySelector('#df-0a0cf47b-72c8-458e-b4e7-02ac1376c5e6 button.colab-df-convert');\n",
              "        buttonEl.style.display =\n",
              "          google.colab.kernel.accessAllowed ? 'block' : 'none';\n",
              "\n",
              "        async function convertToInteractive(key) {\n",
              "          const element = document.querySelector('#df-0a0cf47b-72c8-458e-b4e7-02ac1376c5e6');\n",
              "          const dataTable =\n",
              "            await google.colab.kernel.invokeFunction('convertToInteractive',\n",
              "                                                     [key], {});\n",
              "          if (!dataTable) return;\n",
              "\n",
              "          const docLinkHtml = 'Like what you see? Visit the ' +\n",
              "            '<a target=\"_blank\" href=https://colab.research.google.com/notebooks/data_table.ipynb>data table notebook</a>'\n",
              "            + ' to learn more about interactive tables.';\n",
              "          element.innerHTML = '';\n",
              "          dataTable['output_type'] = 'display_data';\n",
              "          await google.colab.output.renderOutput(dataTable, element);\n",
              "          const docLink = document.createElement('div');\n",
              "          docLink.innerHTML = docLinkHtml;\n",
              "          element.appendChild(docLink);\n",
              "        }\n",
              "      </script>\n",
              "    </div>\n",
              "  </div>\n",
              "  "
            ]
          },
          "metadata": {},
          "execution_count": 10
        }
      ]
    },
    {
      "cell_type": "code",
      "source": [
        "Resumes.Category.value_counts()"
      ],
      "metadata": {
        "colab": {
          "base_uri": "https://localhost:8080/"
        },
        "id": "wyn7pkfcewXy",
        "outputId": "290a442e-1886-41ad-d7e2-91751130db34"
      },
      "execution_count": null,
      "outputs": [
        {
          "output_type": "execute_result",
          "data": {
            "text/plain": [
              "Java Developer               84\n",
              "Testing                      70\n",
              "DevOps Engineer              55\n",
              "Python Developer             48\n",
              "Web Designing                45\n",
              "HR                           44\n",
              "Hadoop                       42\n",
              "Blockchain                   40\n",
              "ETL Developer                40\n",
              "Operations Manager           40\n",
              "Data Science                 40\n",
              "Sales                        40\n",
              "Mechanical Engineer          40\n",
              "Arts                         36\n",
              "Database                     33\n",
              "Electrical Engineering       30\n",
              "Health and fitness           30\n",
              "PMO                          30\n",
              "Business Analyst             28\n",
              "DotNet Developer             28\n",
              "Automation Testing           26\n",
              "Network Security Engineer    25\n",
              "SAP Developer                24\n",
              "Civil Engineer               24\n",
              "Advocate                     20\n",
              "Name: Category, dtype: int64"
            ]
          },
          "metadata": {},
          "execution_count": 11
        }
      ]
    },
    {
      "cell_type": "code",
      "source": [
        "print(\"Unique categories\")\n",
        "\n",
        "print(\"                 \")\n",
        "\n",
        "print(Resumes.Category.unique())"
      ],
      "metadata": {
        "colab": {
          "base_uri": "https://localhost:8080/"
        },
        "id": "N0KaQXA5ewZu",
        "outputId": "dcf4b66b-e2f7-4151-b5dd-e486e83d5bad"
      },
      "execution_count": null,
      "outputs": [
        {
          "output_type": "stream",
          "name": "stdout",
          "text": [
            "Unique categories\n",
            "                 \n",
            "['Data Science' 'HR' 'Advocate' 'Arts' 'Web Designing'\n",
            " 'Mechanical Engineer' 'Sales' 'Health and fitness' 'Civil Engineer'\n",
            " 'Java Developer' 'Business Analyst' 'SAP Developer' 'Automation Testing'\n",
            " 'Electrical Engineering' 'Operations Manager' 'Python Developer'\n",
            " 'DevOps Engineer' 'Network Security Engineer' 'PMO' 'Database' 'Hadoop'\n",
            " 'ETL Developer' 'DotNet Developer' 'Blockchain' 'Testing']\n"
          ]
        }
      ]
    },
    {
      "cell_type": "markdown",
      "source": [
        "#Data Cleaning\n",
        "\n",
        "Initially, I am cleaning the dataset by using Regular experssion (re).\n",
        "\n",
        "sub() function belongs to Regular Expression (re) module in python. It returns a string where all matching occurances of the specified pattern are replaced by the replace string."
      ],
      "metadata": {
        "id": "v94DtvwVuAsG"
      }
    },
    {
      "cell_type": "code",
      "source": [
        "import re\n",
        "import string\n",
        "\n",
        "def clean_text(Resume):\n",
        "  Resume = Resume.lower()\n",
        "  Resume = re.sub('\\[.*?\\]', '', Resume)\n",
        "  Resume = re.sub('[%s]' % re.escape(string.punctuation),'', Resume)\n",
        "  Resume = re.sub('\\w*\\d\\w*', '', Resume)\n",
        "  Resume = re.sub(\"[0-9\" \"]+\", \" \", Resume)\n",
        "  Resume = re.sub('[‘’“”…]', '', Resume)\n",
        "  Resume = re.sub(r'[^\\x00-\\x7F]+','', Resume)\n",
        "  Resume = re.sub(r'[^ \\w\\.]', '', Resume)\n",
        "  return Resume\n",
        "\n",
        "clean = lambda x: clean_text(x)"
      ],
      "metadata": {
        "id": "_ufvsB9oewdg"
      },
      "execution_count": null,
      "outputs": []
    },
    {
      "cell_type": "code",
      "source": [
        "Resumes['Resume'] = Resumes.Resume.apply(clean)\n",
        "Resumes.Resume"
      ],
      "metadata": {
        "colab": {
          "base_uri": "https://localhost:8080/"
        },
        "id": "hd7JQbEbewfn",
        "outputId": "0000374b-17ce-4e3e-a865-48e51d187419"
      },
      "execution_count": null,
      "outputs": [
        {
          "output_type": "execute_result",
          "data": {
            "text/plain": [
              "0      skills  programming languages python pandas nu...\n",
              "1      education details may  to may  be   uitrgpvdat...\n",
              "2      areas of interest deep learning control system...\n",
              "3      skills  r  python  sap hana  tableau  sap hana...\n",
              "4      education details  mca   ymcaust  faridabad  h...\n",
              "                             ...                        \n",
              "957    computer skills  proficient in ms office word ...\n",
              "958     willingness to accept the challenges  positiv...\n",
              "959    personal skills  quick learner  eagerness to l...\n",
              "960    computer skills  software knowledge mspower po...\n",
              "961    skill set os windows  database mysql sql serve...\n",
              "Name: Resume, Length: 962, dtype: object"
            ]
          },
          "metadata": {},
          "execution_count": 14
        }
      ]
    },
    {
      "cell_type": "markdown",
      "source": [
        "Before removing the STOPWORDS, Here I am checking the frequency of the Top 20 words from the Resumes dataset, where the column is Resume."
      ],
      "metadata": {
        "id": "E1eLDDEB1Grr"
      }
    },
    {
      "cell_type": "code",
      "source": [
        "frequency = pd.Series(' '.join(Resumes['Resume']).split()).value_counts()[:20]\n",
        "frequency"
      ],
      "metadata": {
        "colab": {
          "base_uri": "https://localhost:8080/"
        },
        "id": "RxUzCps1ewjT",
        "outputId": "17a119d0-bcf2-4e3a-b44d-851cf478378e"
      },
      "execution_count": null,
      "outputs": [
        {
          "output_type": "execute_result",
          "data": {
            "text/plain": [
              "and            16556\n",
              "the            11264\n",
              "of              8769\n",
              "to              7553\n",
              "in              5504\n",
              "for             5246\n",
              "exprience       3829\n",
              "with            3792\n",
              "details         3043\n",
              "on              2732\n",
              "project         2730\n",
              "a               2310\n",
              "as              2285\n",
              "data            1982\n",
              "company         1959\n",
              "management      1768\n",
              "team            1609\n",
              "is              1569\n",
              "maharashtra     1435\n",
              "year            1299\n",
              "dtype: int64"
            ]
          },
          "metadata": {},
          "execution_count": 15
        }
      ]
    },
    {
      "cell_type": "markdown",
      "source": [
        "Here I removed the stopwords from the Resume Dataset, where the column is 'Resume'."
      ],
      "metadata": {
        "id": "poyYlAOL6EYm"
      }
    },
    {
      "cell_type": "code",
      "source": [
        "stop = stopwords.words('english')\n",
        "Resumes['Resume'] = Resumes['Resume'].apply(lambda x: \" \".join(x for x in x.split() if x not in stop))"
      ],
      "metadata": {
        "id": "0zys3fULewlR"
      },
      "execution_count": null,
      "outputs": []
    },
    {
      "cell_type": "markdown",
      "source": [
        "Now, Again I am checking the frequency of the Top 20 words after the removal of Stopwords."
      ],
      "metadata": {
        "id": "j8QQ08cE6dIC"
      }
    },
    {
      "cell_type": "code",
      "source": [
        "frequency_after_StopWords = pd.Series(' '.join(Resumes['Resume']).split()).value_counts()[:20]\n",
        "frequency_after_StopWords"
      ],
      "metadata": {
        "colab": {
          "base_uri": "https://localhost:8080/"
        },
        "id": "r0fdx_c_ewpJ",
        "outputId": "e14e2e13-cc40-41a0-c70d-6e21fce9b560"
      },
      "execution_count": null,
      "outputs": [
        {
          "output_type": "execute_result",
          "data": {
            "text/plain": [
              "exprience      3829\n",
              "details        3043\n",
              "project        2730\n",
              "data           1982\n",
              "company        1959\n",
              "management     1768\n",
              "team           1609\n",
              "maharashtra    1435\n",
              "year           1299\n",
              "testing        1167\n",
              "system         1153\n",
              "development    1151\n",
              "less           1145\n",
              "business       1125\n",
              "test           1116\n",
              "using          1085\n",
              "database       1032\n",
              "application     965\n",
              "engineering     943\n",
              "skills          920\n",
              "dtype: int64"
            ]
          },
          "metadata": {},
          "execution_count": 17
        }
      ]
    },
    {
      "cell_type": "code",
      "source": [
        "# import spacy\n",
        "# from spacy import displacy\n",
        "\n",
        "# nlp = spacy.load(\"en_core_web_sm\")\n",
        "# text=nlp(Resumes[\"Resume\"][0])\n",
        "# displacy.render(text, style = \"ent\",jupyter='False')"
      ],
      "metadata": {
        "id": "lYZRgK3KewrO"
      },
      "execution_count": null,
      "outputs": []
    },
    {
      "cell_type": "markdown",
      "source": [
        "Now, I am interested to know the number of characters in each sentence. This gives the idea of resume length."
      ],
      "metadata": {
        "id": "84qeyqif2aAx"
      }
    },
    {
      "cell_type": "code",
      "source": [
        "characters = Resumes['Resume'].apply(len)\n",
        "characters"
      ],
      "metadata": {
        "colab": {
          "base_uri": "https://localhost:8080/"
        },
        "id": "14lVh7KSewvK",
        "outputId": "1fdc8d90-00fc-419f-982c-5b293795123f"
      },
      "execution_count": null,
      "outputs": [
        {
          "output_type": "execute_result",
          "data": {
            "text/plain": [
              "0      3899\n",
              "1       968\n",
              "2      1452\n",
              "3      5639\n",
              "4       354\n",
              "       ... \n",
              "957    1655\n",
              "958    1787\n",
              "959    2498\n",
              "960     664\n",
              "961    1467\n",
              "Name: Resume, Length: 962, dtype: int64"
            ]
          },
          "metadata": {},
          "execution_count": 19
        }
      ]
    },
    {
      "cell_type": "code",
      "source": [
        "print('Total Characters in Resumes : ', characters.sum())\n",
        "print('Mean of each characters in Resumes : ', characters.mean())\n",
        "print('Median of characters in Resumes: ', characters.median())\n",
        "print('Standard Deviation of characters in Resumes : ', characters.std())\n",
        "print('Skew of characters in Resumes: ', characters.skew())"
      ],
      "metadata": {
        "colab": {
          "base_uri": "https://localhost:8080/"
        },
        "id": "WbP_XrSNewxG",
        "outputId": "8cd96599-83d3-49c0-eb6a-ce94588252ee"
      },
      "execution_count": null,
      "outputs": [
        {
          "output_type": "stream",
          "name": "stdout",
          "text": [
            "Total Characters in Resumes :  2387578\n",
            "Mean of each characters in Resumes :  2481.8898128898127\n",
            "Median of characters in Resumes:  1816.0\n",
            "Standard Deviation of characters in Resumes :  2251.0959283391235\n",
            "Skew of characters in Resumes:  1.8819864219115294\n"
          ]
        }
      ]
    },
    {
      "cell_type": "code",
      "source": [
        "import seaborn as sns\n",
        "import matplotlib.pyplot as plt\n",
        "sns.distplot(x=characters)"
      ],
      "metadata": {
        "colab": {
          "base_uri": "https://localhost:8080/",
          "height": 282
        },
        "id": "B-2-g0HMew1O",
        "outputId": "b13178a2-3726-406a-a1db-8e527f5f179e"
      },
      "execution_count": null,
      "outputs": [
        {
          "output_type": "execute_result",
          "data": {
            "text/plain": [
              "<matplotlib.axes._subplots.AxesSubplot at 0x7f6e3505a490>"
            ]
          },
          "metadata": {},
          "execution_count": 21
        },
        {
          "output_type": "display_data",
          "data": {
            "text/plain": [
              "<Figure size 432x288 with 1 Axes>"
            ],
            "image/png": "[encoded data removed]"
          },
          "metadata": {
            "needs_background": "light"
          }
        }
      ]
    },
    {
      "cell_type": "markdown",
      "source": [
        "Calculating each Word Characteristic in dataframe"
      ],
      "metadata": {
        "id": "PsUjVKw14qK4"
      }
    },
    {
      "cell_type": "code",
      "source": [
        "words = Resumes['Resume'].apply(lambda x: len(str(x).split(' ')))\n",
        "words.head()"
      ],
      "metadata": {
        "colab": {
          "base_uri": "https://localhost:8080/"
        },
        "id": "Ih-SrNTlew2o",
        "outputId": "4a89a4d5-8063-415f-bcaa-ec154474cafb"
      },
      "execution_count": null,
      "outputs": [
        {
          "output_type": "execute_result",
          "data": {
            "text/plain": [
              "0    467\n",
              "1     97\n",
              "2    165\n",
              "3    645\n",
              "4     42\n",
              "Name: Resume, dtype: int64"
            ]
          },
          "metadata": {},
          "execution_count": 22
        }
      ]
    },
    {
      "cell_type": "code",
      "source": [
        "print('Total Number of Words in Resumes: ', words.sum())\n",
        "print('Mean of each word in Resumes: ', words.mean())\n",
        "print('Median of word in Resumes: ', words.median())\n",
        "print('Standard Deviation of word in dataset: ', words.std())\n",
        "print('Skew of word dataset: ', words.skew())"
      ],
      "metadata": {
        "colab": {
          "base_uri": "https://localhost:8080/"
        },
        "id": "xZx_7908ew6-",
        "outputId": "a41d4c67-0fe3-4802-b801-96b4518c32c5"
      },
      "execution_count": null,
      "outputs": [
        {
          "output_type": "stream",
          "name": "stdout",
          "text": [
            "Total Number of Words in Resumes:  277991\n",
            "Mean of each word in Resumes:  288.9719334719335\n",
            "Median of word in Resumes:  213.0\n",
            "Standard Deviation of word in dataset:  261.54449255141833\n",
            "Skew of word dataset:  1.8849486161281603\n"
          ]
        }
      ]
    },
    {
      "cell_type": "code",
      "source": [
        "sns.distplot(x=words)"
      ],
      "metadata": {
        "colab": {
          "base_uri": "https://localhost:8080/",
          "height": 282
        },
        "id": "ogQDOikPew8s",
        "outputId": "a4fafc94-eb43-4d7d-ac84-7f325ef378ff"
      },
      "execution_count": null,
      "outputs": [
        {
          "output_type": "execute_result",
          "data": {
            "text/plain": [
              "<matplotlib.axes._subplots.AxesSubplot at 0x7f6e35383a90>"
            ]
          },
          "metadata": {},
          "execution_count": 24
        },
        {
          "output_type": "display_data",
          "data": {
            "text/plain": [
              "<Figure size 432x288 with 1 Axes>"
            ],
            "image/png": "[encoded data removed]"
          },
          "metadata": {
            "needs_background": "light"
          }
        }
      ]
    },
    {
      "cell_type": "markdown",
      "source": [
        "# Resumes Dataset Visualization based on category"
      ],
      "metadata": {
        "id": "Wr5CgBT95oRg"
      }
    },
    {
      "cell_type": "code",
      "source": [
        "import seaborn as sns\n",
        "import matplotlib.pyplot as plt\n",
        "plt.style.use('seaborn-dark-palette')\n",
        "plt.figure(figsize=(15,7))\n",
        "plt.title(\"Visualization based on Category\")\n",
        "plt.xticks(rotation=90)\n",
        "sns.countplot(y='Category', data=Resumes, palette=(\"Set2\"))\n",
        "plt.show()"
      ],
      "metadata": {
        "colab": {
          "base_uri": "https://localhost:8080/",
          "height": 386
        },
        "id": "QmEZ4rsVexAz",
        "outputId": "b7ec0515-92b6-4a15-dd33-8d8a471bf1f4"
      },
      "execution_count": null,
      "outputs": [
        {
          "output_type": "display_data",
          "data": {
            "text/plain": [
              "<Figure size 1080x504 with 1 Axes>"
            ],
            "image/png": "[encoded data removed]"
          },
          "metadata": {
            "needs_background": "light"
          }
        }
      ]
    },
    {
      "cell_type": "code",
      "source": [
        "from matplotlib.gridspec import GridSpec\n",
        "targetCounts = Resumes.Category.value_counts()\n",
        "targetCategories = Resumes.Category.unique()\n",
        "\n",
        "# Mark square figures and axes\n",
        "plt.figure(1, figsize=(25,25))\n",
        "the_grid = GridSpec(2,2)\n",
        "\n",
        "cmap = plt.get_cmap('plasma')\n",
        "plt.subplot(the_grid[0,1], aspect=1, title='Category Distribution')\n",
        "\n",
        "source_pie = plt.pie(targetCounts, labels=targetCategories, autopct = \"%1.1f%%\", shadow=True)\n",
        "plt.show()"
      ],
      "metadata": {
        "colab": {
          "base_uri": "https://localhost:8080/",
          "height": 665
        },
        "id": "yEWHQWnTexCO",
        "outputId": "3a885a47-772b-4192-e6a6-17280978f48e"
      },
      "execution_count": null,
      "outputs": [
        {
          "output_type": "display_data",
          "data": {
            "text/plain": [
              "<Figure size 1800x1800 with 1 Axes>"
            ],
            "image/png": "[encoded data removed]"
          },
          "metadata": {}
        }
      ]
    },
    {
      "cell_type": "markdown",
      "source": [
        "#Feature extraction"
      ],
      "metadata": {
        "id": "Nc_ZjwYr8vXC"
      }
    },
    {
      "cell_type": "code",
      "source": [
        "# from collections import Counter\n",
        "# import seaborn as sns"
      ],
      "metadata": {
        "id": "Zx-mycNuexG8"
      },
      "execution_count": null,
      "outputs": []
    },
    {
      "cell_type": "code",
      "source": [
        "# frequency_words = pd.Series(' '.join(Resumes['Resume']).split()).value_counts()[:50]\n",
        "# frequency_words = frequency_words.reset_index()\n",
        "# frequency_words.columns = [\"Frequency_words\", \"frequency\"]\n",
        "# frequency_words.head()\n"
      ],
      "metadata": {
        "id": "IxJaEcEuexIO"
      },
      "execution_count": null,
      "outputs": []
    },
    {
      "cell_type": "code",
      "source": [
        "# words = frequency_words[\"Frequency_words\"].tolist()\n",
        "# words"
      ],
      "metadata": {
        "id": "86o2knHTexYR"
      },
      "execution_count": null,
      "outputs": []
    },
    {
      "cell_type": "code",
      "source": [
        "# words = ['exprience',\n",
        "#  'details',\n",
        "#  'project',\n",
        "#  'data',\n",
        "#  'company',\n",
        "#  'management',\n",
        "#  'team',\n",
        "#  'maharashtra',\n",
        "#  'year',\n",
        "#  'testing',\n",
        "#  'system',\n",
        "#  'development',\n",
        "#  'less',\n",
        "#  'business',\n",
        "#  'test',\n",
        "#  'using',\n",
        "#  'database',\n",
        "#  'application',\n",
        "#  'engineering',\n",
        "#  'skills',\n",
        "#  'work',\n",
        "#  'pune',\n",
        "#  'pvt',\n",
        "#  'java',\n",
        "#  'services',\n",
        "#  'sql',\n",
        "#  'reports',\n",
        "#  'monthscompany',\n",
        "#  'client',\n",
        "#  'developer',\n",
        "#  'customer',\n",
        "#  'server',\n",
        "#  'sales',\n",
        "#  'software',\n",
        "#  'various',\n",
        "#  'requirements',\n",
        "#  'process',\n",
        "#  'technical',\n",
        "#  'design',\n",
        "#  'working',\n",
        "#  'education',\n",
        "#  'operations',\n",
        "#  'like',\n",
        "#  'responsibilities',\n",
        "#  'india',\n",
        "#  'ltddescription',\n",
        "#  'web',\n",
        "#  'january',\n",
        "#  'per',\n",
        "#  'automation']\n",
        "\n",
        "# indices = np.random.zipf(1.6, size = 500).astype(np.int) % len(words)\n",
        "# tw = np.array(words)[indices]\n",
        "\n",
        "# tf = Counter(tw)\n",
        "\n",
        "# y = [count for tag, count in tf.most_common(50)]\n",
        "# x = [tag for tag, count in tf.most_common(50)]\n",
        "# plt.style.use('seaborn-dark-palette')\n",
        "# plt.figure(figsize=(12,5))\n",
        "# plt.bar(x,y,color=['gold','lightcoral','lightskyblue'])\n",
        "# plt.title(\"Word frequencies in Resumes Data in Log Scale\")\n",
        "# plt.ylabel(\"Frequency (log scale)\")\n",
        "# plt.yscale('symlog')\n",
        "# plt.xticks(rotation=90)\n",
        "# for i, (tag,count) in enumerate(tf.most_common(50)):\n",
        "#   plt.text(i,count,f'{count}', rotation=90, ha='center', va='top' if i <10 else 'bottom', color='white' if i < 10 else 'black')\n",
        "# plt.xlim(-0.6, len(x)-0.4) # optionally set tighter x lims\n",
        "# plt.tight_layout() # change the whitespace such that all labels fit nicely\n",
        "# plt.show()"
      ],
      "metadata": {
        "id": "T8UZjEHjexd4"
      },
      "execution_count": null,
      "outputs": []
    },
    {
      "cell_type": "code",
      "source": [
        "def wordBarGraphFunction_1(df,column,title):\n",
        "  topic_words = [z.lower() for y in \n",
        "                 [x.split() for x in df[column] if isinstance(x,str)]\n",
        "                 for z in y]\n",
        "  word_count_dict = dict(Counter(topic_words))\n",
        "  popular_words = sorted(word_count_dict, key = word_count_dict.get,reverse=True)\n",
        "  popular_words_nonstop = [w for w in popular_words if w not in stopwords.words('english')]\n",
        "  plt.style.use('fivethirtyeight')\n",
        "  sns.barplot(x=np.arange(20), y= [word_count_dict[w] for w in reversed(popular_words_nonstop[0:20])])\n",
        "  plt.xticks([x + 0.5 for x in range(20)], reversed(popular_words_nonstop[0:20]), rotation=90)\n",
        "  plt.title(title)\n",
        "  plt.show()"
      ],
      "metadata": {
        "id": "oUdSPdXWexfS"
      },
      "execution_count": null,
      "outputs": []
    },
    {
      "cell_type": "code",
      "source": [
        "plt.figure(figsize=(15,6))\n",
        "wordBarGraphFunction_1(Resumes,\"Resume\",\"Most Frequent Words\")"
      ],
      "metadata": {
        "colab": {
          "base_uri": "https://localhost:8080/",
          "height": 321
        },
        "id": "UpExY6TBexjd",
        "outputId": "7e2305a8-7e6d-443d-8a13-94fa60abacc8"
      },
      "execution_count": null,
      "outputs": [
        {
          "output_type": "error",
          "ename": "NameError",
          "evalue": "ignored",
          "traceback": [
            "\u001b[0;31m---------------------------------------------------------------------------\u001b[0m",
            "\u001b[0;31mNameError\u001b[0m                                 Traceback (most recent call last)",
            "\u001b[0;32m<ipython-input-32-97d4cbbae724>\u001b[0m in \u001b[0;36m<module>\u001b[0;34m\u001b[0m\n\u001b[1;32m      1\u001b[0m \u001b[0mplt\u001b[0m\u001b[0;34m.\u001b[0m\u001b[0mfigure\u001b[0m\u001b[0;34m(\u001b[0m\u001b[0mfigsize\u001b[0m\u001b[0;34m=\u001b[0m\u001b[0;34m(\u001b[0m\u001b[0;36m15\u001b[0m\u001b[0;34m,\u001b[0m\u001b[0;36m6\u001b[0m\u001b[0;34m)\u001b[0m\u001b[0;34m)\u001b[0m\u001b[0;34m\u001b[0m\u001b[0;34m\u001b[0m\u001b[0m\n\u001b[0;32m----> 2\u001b[0;31m \u001b[0mwordBarGraphFunction_1\u001b[0m\u001b[0;34m(\u001b[0m\u001b[0mResumes\u001b[0m\u001b[0;34m,\u001b[0m\u001b[0;34m\"Resume\"\u001b[0m\u001b[0;34m,\u001b[0m\u001b[0;34m\"Most Frequent Words\"\u001b[0m\u001b[0;34m)\u001b[0m\u001b[0;34m\u001b[0m\u001b[0;34m\u001b[0m\u001b[0m\n\u001b[0m",
            "\u001b[0;32m<ipython-input-31-106b9d948a73>\u001b[0m in \u001b[0;36mwordBarGraphFunction_1\u001b[0;34m(df, column, title)\u001b[0m\n\u001b[1;32m      3\u001b[0m                  \u001b[0;34m[\u001b[0m\u001b[0mx\u001b[0m\u001b[0;34m.\u001b[0m\u001b[0msplit\u001b[0m\u001b[0;34m(\u001b[0m\u001b[0;34m)\u001b[0m \u001b[0;32mfor\u001b[0m \u001b[0mx\u001b[0m \u001b[0;32min\u001b[0m \u001b[0mdf\u001b[0m\u001b[0;34m[\u001b[0m\u001b[0mcolumn\u001b[0m\u001b[0;34m]\u001b[0m \u001b[0;32mif\u001b[0m \u001b[0misinstance\u001b[0m\u001b[0;34m(\u001b[0m\u001b[0mx\u001b[0m\u001b[0;34m,\u001b[0m\u001b[0mstr\u001b[0m\u001b[0;34m)\u001b[0m\u001b[0;34m]\u001b[0m\u001b[0;34m\u001b[0m\u001b[0;34m\u001b[0m\u001b[0m\n\u001b[1;32m      4\u001b[0m                  for z in y]\n\u001b[0;32m----> 5\u001b[0;31m   \u001b[0mword_count_dict\u001b[0m \u001b[0;34m=\u001b[0m \u001b[0mdict\u001b[0m\u001b[0;34m(\u001b[0m\u001b[0mCounter\u001b[0m\u001b[0;34m(\u001b[0m\u001b[0mtopic_words\u001b[0m\u001b[0;34m)\u001b[0m\u001b[0;34m)\u001b[0m\u001b[0;34m\u001b[0m\u001b[0;34m\u001b[0m\u001b[0m\n\u001b[0m\u001b[1;32m      6\u001b[0m   \u001b[0mpopular_words\u001b[0m \u001b[0;34m=\u001b[0m \u001b[0msorted\u001b[0m\u001b[0;34m(\u001b[0m\u001b[0mword_count_dict\u001b[0m\u001b[0;34m,\u001b[0m \u001b[0mkey\u001b[0m \u001b[0;34m=\u001b[0m \u001b[0mword_count_dict\u001b[0m\u001b[0;34m.\u001b[0m\u001b[0mget\u001b[0m\u001b[0;34m,\u001b[0m\u001b[0mreverse\u001b[0m\u001b[0;34m=\u001b[0m\u001b[0;32mTrue\u001b[0m\u001b[0;34m)\u001b[0m\u001b[0;34m\u001b[0m\u001b[0;34m\u001b[0m\u001b[0m\n\u001b[1;32m      7\u001b[0m   \u001b[0mpopular_words_nonstop\u001b[0m \u001b[0;34m=\u001b[0m \u001b[0;34m[\u001b[0m\u001b[0mw\u001b[0m \u001b[0;32mfor\u001b[0m \u001b[0mw\u001b[0m \u001b[0;32min\u001b[0m \u001b[0mpopular_words\u001b[0m \u001b[0;32mif\u001b[0m \u001b[0mw\u001b[0m \u001b[0;32mnot\u001b[0m \u001b[0;32min\u001b[0m \u001b[0mstopwords\u001b[0m\u001b[0;34m.\u001b[0m\u001b[0mwords\u001b[0m\u001b[0;34m(\u001b[0m\u001b[0;34m'english'\u001b[0m\u001b[0;34m)\u001b[0m\u001b[0;34m]\u001b[0m\u001b[0;34m\u001b[0m\u001b[0;34m\u001b[0m\u001b[0m\n",
            "\u001b[0;31mNameError\u001b[0m: name 'Counter' is not defined"
          ]
        },
        {
          "output_type": "display_data",
          "data": {
            "text/plain": [
              "<Figure size 1080x432 with 0 Axes>"
            ]
          },
          "metadata": {}
        }
      ]
    },
    {
      "cell_type": "markdown",
      "source": [
        "#WordCloud"
      ],
      "metadata": {
        "id": "U1vdlmC8MFgA"
      }
    },
    {
      "cell_type": "code",
      "source": [
        "import matplotlib.pyplot as plt\n",
        "%matplotlib inline\n",
        "from wordcloud import WordCloud, STOPWORDS\n",
        "\n",
        "# Define a function to plot word cloud\n",
        "def plot_cloud(wordcloud):\n",
        "  #set figure size\n",
        "  plt.figure(figsize=(40,30))\n",
        "  #Display image\n",
        "  plt.imshow(wordcloud)\n",
        "  #No axis details\n",
        "  plt.axis(\"off\");"
      ],
      "metadata": {
        "id": "zHvcix4RexlL"
      },
      "execution_count": null,
      "outputs": []
    },
    {
      "cell_type": "code",
      "source": [
        "#Generate wordcloud\n",
        "stopwords = STOPWORDS\n",
        "stopwords.add('will')\n",
        "\n",
        "wordcloud = WordCloud(width = 3000, height = 2000, background_color='black', max_words=100,colormap='Set2',stopwords=stopwords).generate(str(Resumes))\n",
        "plot_cloud(wordcloud)                                                                                                                                          "
      ],
      "metadata": {
        "id": "CD_o5CEqexow"
      },
      "execution_count": null,
      "outputs": []
    },
    {
      "cell_type": "markdown",
      "source": [
        "#Bag of Words"
      ],
      "metadata": {
        "id": "qq9_FX9NOuP7"
      }
    },
    {
      "cell_type": "code",
      "source": [
        "requiredText = Resumes[\"Resume\"]\n",
        "requiredTarget = Resumes[\"Encoded_Skill\"].values\n",
        "Countvectorizer = CountVectorizer(analyzer='word', token_pattern=r'\\w{1,}', stop_words='english')\n",
        "bag = Countvectorizer.fit_transform(requiredText)\n",
        "Countvectorizer.vocabulary_"
      ],
      "metadata": {
        "colab": {
          "base_uri": "https://localhost:8080/"
        },
        "id": "v6EIJisZexrl",
        "outputId": "f5004b16-b919-40ce-d904-cb0fbd11ec41"
      },
      "execution_count": null,
      "outputs": [
        {
          "output_type": "execute_result",
          "data": {
            "text/plain": [
              "{'skills': 7562,\n",
              " 'programming': 6375,\n",
              " 'languages': 4352,\n",
              " 'python': 6538,\n",
              " 'pandas': 5837,\n",
              " 'numpy': 5577,\n",
              " 'scipy': 7262,\n",
              " 'scikitlearn': 7259,\n",
              " 'matplotlib': 4808,\n",
              " 'sql': 7744,\n",
              " 'java': 4139,\n",
              " 'javascriptjquery': 4146,\n",
              " 'machine': 4623,\n",
              " 'learning': 4423,\n",
              " 'regression': 6778,\n",
              " 'svm': 7994,\n",
              " 'nave': 5424,\n",
              " 'bayes': 764,\n",
              " 'knn': 4283,\n",
              " 'random': 6633,\n",
              " 'forest': 3148,\n",
              " 'decision': 2054,\n",
              " 'trees': 8493,\n",
              " 'boosting': 921,\n",
              " 'techniques': 8169,\n",
              " 'cluster': 1372,\n",
              " 'analysis': 313,\n",
              " 'word': 9058,\n",
              " 'embedding': 2584,\n",
              " 'sentiment': 7388,\n",
              " 'natural': 5419,\n",
              " 'language': 4351,\n",
              " 'processing': 6310,\n",
              " 'dimensionality': 2307,\n",
              " 'reduction': 6745,\n",
              " 'topic': 8397,\n",
              " 'modelling': 4998,\n",
              " 'lda': 4396,\n",
              " 'nmf': 5514,\n",
              " 'pca': 5924,\n",
              " 'neural': 5484,\n",
              " 'nets': 5472,\n",
              " 'database': 1954,\n",
              " 'visualizations': 8892,\n",
              " 'mysql': 5378,\n",
              " 'sqlserver': 7754,\n",
              " 'cassandra': 1140,\n",
              " 'hbase': 3526,\n",
              " 'elasticsearch': 2555,\n",
              " 'dcjs': 2024,\n",
              " 'plotly': 6085,\n",
              " 'kibana': 4268,\n",
              " 'ggplot': 3333,\n",
              " 'tableau': 8060,\n",
              " 'regular': 6779,\n",
              " 'expression': 2911,\n",
              " 'html': 3681,\n",
              " 'css': 1876,\n",
              " 'angular': 361,\n",
              " 'logstash': 4579,\n",
              " 'kafka': 4230,\n",
              " 'flask': 3092,\n",
              " 'git': 3343,\n",
              " 'docker': 2382,\n",
              " 'computer': 1574,\n",
              " 'vision': 8877,\n",
              " 'open': 5676,\n",
              " 'cv': 1921,\n",
              " 'understanding': 8610,\n",
              " 'deep': 2070,\n",
              " 'learningeducation': 4425,\n",
              " 'details': 2198,\n",
              " 'data': 1951,\n",
              " 'science': 7250,\n",
              " 'assurance': 559,\n",
              " 'associate': 551,\n",
              " 'ernst': 2735,\n",
              " 'young': 9169,\n",
              " 'llpskill': 4535,\n",
              " 'javascript': 4144,\n",
              " 'exprience': 2913,\n",
              " 'monthsjquery': 5165,\n",
              " 'monthspython': 5221,\n",
              " 'monthscompany': 5083,\n",
              " 'company': 1509,\n",
              " 'llpdescription': 4534,\n",
              " 'fraud': 3195,\n",
              " 'investigations': 4047,\n",
              " 'dispute': 2353,\n",
              " 'services': 7423,\n",
              " 'assurancetechnology': 560,\n",
              " 'assisted': 547,\n",
              " 'reviewtar': 6996,\n",
              " 'technology': 8182,\n",
              " 'review': 6990,\n",
              " 'assists': 550,\n",
              " 'accelerating': 27,\n",
              " 'process': 6299,\n",
              " 'run': 7111,\n",
              " 'analytics': 331,\n",
              " 'generate': 3312,\n",
              " 'reports': 6847,\n",
              " 'core': 1744,\n",
              " 'member': 4869,\n",
              " 'team': 8140,\n",
              " 'helped': 3553,\n",
              " 'developing': 2244,\n",
              " 'automated': 630,\n",
              " 'platform': 6064,\n",
              " 'tool': 8389,\n",
              " 'scratch': 7275,\n",
              " 'assisting': 549,\n",
              " 'e': 2481,\n",
              " 'discovery': 2333,\n",
              " 'domain': 2398,\n",
              " 'implements': 3780,\n",
              " 'predictive': 6202,\n",
              " 'coding': 1404,\n",
              " 'automating': 633,\n",
              " 'reviews': 6995,\n",
              " 'resulting': 6959,\n",
              " 'reduced': 6741,\n",
              " 'labor': 4329,\n",
              " 'costs': 1771,\n",
              " 'time': 8339,\n",
              " 'spent': 7719,\n",
              " 'lawyers': 4388,\n",
              " 'understand': 8609,\n",
              " 'end': 2613,\n",
              " 'flow': 3107,\n",
              " 'solution': 7654,\n",
              " 'research': 6902,\n",
              " 'development': 2246,\n",
              " 'classification': 1320,\n",
              " 'models': 5000,\n",
              " 'mining': 4959,\n",
              " 'information': 3885,\n",
              " 'present': 6230,\n",
              " 'text': 8269,\n",
              " 'worked': 9066,\n",
              " 'analyzing': 338,\n",
              " 'outputs': 5779,\n",
              " 'precision': 6196,\n",
              " 'monitoring': 5030,\n",
              " 'entire': 2691,\n",
              " 'tar': 8100,\n",
              " 'evidence': 2810,\n",
              " 'following': 3130,\n",
              " 'ey': 2935,\n",
              " 'standards': 7804,\n",
              " 'developed': 2216,\n",
              " 'classifier': 1322,\n",
              " 'order': 5721,\n",
              " 'identify': 3728,\n",
              " 'red': 6735,\n",
              " 'flags': 3089,\n",
              " 'fraudrelated': 3196,\n",
              " 'issuestools': 4104,\n",
              " 'technologies': 8177,\n",
              " 'tfidf': 8272,\n",
              " 'cosine': 1765,\n",
              " 'similarity': 7525,\n",
              " 'vader': 8760,\n",
              " 'blob': 859,\n",
              " 'matplot': 4807,\n",
              " 'lib': 4470,\n",
              " 'dashboard': 1949,\n",
              " 'reportingmultiple': 6843,\n",
              " 'analytic': 328,\n",
              " 'projects': 6396,\n",
              " 'usa': 8714,\n",
              " 'clientstext': 1344,\n",
              " 'motor': 5295,\n",
              " 'vehicle': 8803,\n",
              " 'customer': 1904,\n",
              " 'received': 6703,\n",
              " 'feedback': 3010,\n",
              " 'survey': 7988,\n",
              " 'past': 5893,\n",
              " 'year': 9149,\n",
              " 'performed': 5949,\n",
              " 'positive': 6142,\n",
              " 'negative': 5447,\n",
              " 'neutral': 5486,\n",
              " 'series': 7400,\n",
              " 'comments': 1472,\n",
              " 'categories': 1146,\n",
              " 'created': 1821,\n",
              " 'heat': 3546,\n",
              " 'map': 4753,\n",
              " 'terms': 8233,\n",
              " 'category': 1149,\n",
              " 'based': 746,\n",
              " 'frequency': 3207,\n",
              " 'words': 9059,\n",
              " 'extracted': 2927,\n",
              " 'plotted': 6087,\n",
              " 'cloud': 1362,\n",
              " 'customized': 1916,\n",
              " 'dashboards': 1950,\n",
              " 'effective': 2530,\n",
              " 'reporting': 6842,\n",
              " 'visualizationschatbot': 8893,\n",
              " 'user': 8727,\n",
              " 'friendly': 3213,\n",
              " 'chatbot': 1242,\n",
              " 'products': 6334,\n",
              " 'handle': 3494,\n",
              " 'simple': 7526,\n",
              " 'questions': 6589,\n",
              " 'hours': 3659,\n",
              " 'operation': 5688,\n",
              " 'reservation': 6905,\n",
              " 'options': 5712,\n",
              " 'chat': 1241,\n",
              " 'bot': 927,\n",
              " 'serves': 7416,\n",
              " 'product': 6325,\n",
              " 'related': 6790,\n",
              " 'giving': 3350,\n",
              " 'overview': 5795,\n",
              " 'qa': 6545,\n",
              " 'recommendation': 6715,\n",
              " 'responses': 6935,\n",
              " 'question': 6587,\n",
              " 'build': 1010,\n",
              " 'chain': 1209,\n",
              " 'relevant': 6804,\n",
              " 'answer': 376,\n",
              " 'intelligence': 3976,\n",
              " 'pipeline': 6023,\n",
              " 'requirement': 6883,\n",
              " 'asks': 515,\n",
              " 'recommended': 6717,\n",
              " 'questionstools': 6590,\n",
              " 'nltk': 5511,\n",
              " 'spacy': 7688,\n",
              " 'sqlserverinformation': 7755,\n",
              " 'governanceorganizations': 3399,\n",
              " 'make': 4682,\n",
              " 'informed': 3886,\n",
              " 'decisions': 2055,\n",
              " 'store': 7854,\n",
              " 'integrated': 3972,\n",
              " 'governance': 3398,\n",
              " 'portfolio': 6137,\n",
              " 'synthesizes': 8029,\n",
              " 'unstructured': 8681,\n",
              " 'sources': 7681,\n",
              " 'facilitates': 2949,\n",
              " 'action': 86,\n",
              " 'ensure': 2673,\n",
              " 'organizations': 5739,\n",
              " 'best': 801,\n",
              " 'positioned': 6141,\n",
              " 'counter': 1781,\n",
              " 'risk': 7027,\n",
              " 'scan': 7195,\n",
              " 'multiple': 5337,\n",
              " 'formats': 3157,\n",
              " 'parse': 5862,\n",
              " 'different': 2294,\n",
              " 'file': 3033,\n",
              " 'extract': 2926,\n",
              " 'meta': 4896,\n",
              " 'push': 6526,\n",
              " 'results': 6961,\n",
              " 'indexing': 3831,\n",
              " 'elastic': 2554,\n",
              " 'search': 7311,\n",
              " 'interactive': 3992,\n",
              " 'using': 8735,\n",
              " 'preforming': 6209,\n",
              " 'rot': 7068,\n",
              " 'helps': 3555,\n",
              " 'content': 1669,\n",
              " 'redundant': 6747,\n",
              " 'outdated': 5771,\n",
              " 'trivial': 8515,\n",
              " 'fulltext': 3235,\n",
              " 'predefined': 6198,\n",
              " 'methods': 4906,\n",
              " 'tag': 8071,\n",
              " 'pii': 6016,\n",
              " 'personally': 5968,\n",
              " 'identifiable': 3724,\n",
              " 'social': 7624,\n",
              " 'security': 7339,\n",
              " 'numbers': 5574,\n",
              " 'addresses': 128,\n",
              " 'names': 5401,\n",
              " 'frequently': 3209,\n",
              " 'targeted': 8102,\n",
              " 'cyberattackstools': 1928,\n",
              " 'kibanafraud': 4269,\n",
              " 'platformfraud': 6066,\n",
              " 'investigative': 4048,\n",
              " 'flag': 3087,\n",
              " 'cases': 1132,\n",
              " 'fap': 2984,\n",
              " 'inbuilt': 3803,\n",
              " 'case': 1129,\n",
              " 'manager': 4717,\n",
              " 'suite': 7940,\n",
              " 'various': 8785,\n",
              " 'erp': 2736,\n",
              " 'systems': 8049,\n",
              " 'used': 8722,\n",
              " 'clients': 1340,\n",
              " 'interrogate': 4020,\n",
              " 'accounting': 63,\n",
              " 'identifying': 3729,\n",
              " 'anomalies': 371,\n",
              " 'indicators': 3850,\n",
              " 'running': 7113,\n",
              " 'advanced': 162,\n",
              " 'analyticstools': 333,\n",
              " 'jquery': 4196,\n",
              " 'bootstrap': 923,\n",
              " 'nodejs': 5518,\n",
              " 'education': 2522,\n",
              " 'uitrgpvdata': 8590,\n",
              " 'scientist': 7258,\n",
              " 'matelabsskill': 4798,\n",
              " 'monthsstatsmodels': 5260,\n",
              " 'monthsaws': 5063,\n",
              " 'monthsmachine': 5176,\n",
              " 'monthssklearn': 5250,\n",
              " 'monthsscipy': 5242,\n",
              " 'monthskeras': 5168,\n",
              " 'matelabsdescription': 4797,\n",
              " 'ml': 4979,\n",
              " 'business': 1028,\n",
              " 'professionals': 6347,\n",
              " 'dummies': 2464,\n",
              " 'enthusiasts': 2689,\n",
              " 'koramangala': 4299,\n",
              " 'blockachievementstasks': 861,\n",
              " 'sukh': 7943,\n",
              " 'sagar': 7126,\n",
              " 'bengaluruindia': 797,\n",
              " 'deployed': 2134,\n",
              " 'auto': 626,\n",
              " 'preprocessing': 6223,\n",
              " 'steps': 7845,\n",
              " 'mainly': 4664,\n",
              " 'missing': 4970,\n",
              " 'valuetreatment': 8772,\n",
              " 'outlier': 5775,\n",
              " 'detection': 2205,\n",
              " 'encoding': 2609,\n",
              " 'scaling': 7193,\n",
              " 'feature': 3004,\n",
              " 'selection': 7355,\n",
              " 'reductiondeployed': 6746,\n",
              " 'modellinkedincominadityarathore': 4999,\n",
              " 'reasearch': 6688,\n",
              " 'forecasting': 3142,\n",
              " 'model': 4994,\n",
              " 'arima': 474,\n",
              " 'sarimax': 7158,\n",
              " 'holtwinter': 3630,\n",
              " 'andprophetworked': 350,\n",
              " 'metafeature': 4899,\n",
              " 'extracting': 2928,\n",
              " 'problemgithubcomrathorologyimplemented': 6291,\n",
              " 'state': 7819,\n",
              " 'art': 489,\n",
              " 'paper': 5844,\n",
              " 'mixed': 4977,\n",
              " 'attributescompany': 598,\n",
              " 'areas': 463,\n",
              " 'control': 1696,\n",
              " 'design': 2171,\n",
              " 'inpython': 3924,\n",
              " 'electric': 2558,\n",
              " 'machinery': 4626,\n",
              " 'web': 8978,\n",
              " 'technical': 8162,\n",
              " 'activities': 94,\n",
              " 'q': 6544,\n",
              " 'hindustan': 3592,\n",
              " 'aeronautics': 183,\n",
              " 'limited': 4492,\n",
              " 'bangalore': 713,\n",
              " 'weeks': 9000,\n",
              " 'guidance': 3454,\n",
              " 'mr': 5309,\n",
              " 'satish': 7170,\n",
              " 'senior': 7377,\n",
              " 'engineer': 2630,\n",
              " 'hangar': 3509,\n",
              " 'mirage': 4965,\n",
              " 'fighter': 3030,\n",
              " 'aircraft': 222,\n",
              " 'matlab': 4806,\n",
              " 'labview': 4337,\n",
              " 'webframeworkdjango': 8982,\n",
              " 'ltspiceintermediate': 4616,\n",
              " 'mipowerintermediate': 4964,\n",
              " 'github': 3346,\n",
              " 'gitbash': 3344,\n",
              " 'jupyter': 4226,\n",
              " 'notebook': 5552,\n",
              " 'xampp': 9124,\n",
              " 'mysqlbasics': 5379,\n",
              " 'software': 7635,\n",
              " 'packages': 5810,\n",
              " 'interpretersanaconda': 4019,\n",
              " 'pycharm': 6535,\n",
              " 'ideeclipse': 3723,\n",
              " 'operating': 5686,\n",
              " 'windows': 9031,\n",
              " 'ubuntu': 8576,\n",
              " 'debiankali': 2044,\n",
              " 'linux': 4507,\n",
              " 'january': 4131,\n",
              " 'btech': 993,\n",
              " 'electrical': 2559,\n",
              " 'electronics': 2564,\n",
              " 'engineering': 2638,\n",
              " 'manipal': 4737,\n",
              " 'institute': 3950,\n",
              " 'technologyjanuary': 8184,\n",
              " 'deeksha': 2069,\n",
              " 'centerjanuary': 1177,\n",
              " 'little': 4526,\n",
              " 'flower': 3108,\n",
              " 'public': 6472,\n",
              " 'schoolaugust': 7232,\n",
              " 'academy': 22,\n",
              " 'higherdata': 3571,\n",
              " 'enthusiastskill': 2690,\n",
              " 'monthsexcel': 5128,\n",
              " 'monthsmathematics': 5182,\n",
              " 'monthsmatlab': 5183,\n",
              " 'monthselectrical': 5119,\n",
              " 'monthssql': 5256,\n",
              " 'themathcompanydescription': 8295,\n",
              " 'currently': 1896,\n",
              " 'working': 9076,\n",
              " 'casino': 1139,\n",
              " 'operatorname': 5695,\n",
              " 'disclosed': 2328,\n",
              " 'macaui': 4622,\n",
              " 'need': 5442,\n",
              " 'segment': 7347,\n",
              " 'customers': 1906,\n",
              " 'visit': 8878,\n",
              " 'property': 6420,\n",
              " 'value': 8769,\n",
              " 'patrons': 5908,\n",
              " 'bring': 969,\n",
              " 'companybasically': 1512,\n",
              " 'prove': 6444,\n",
              " 'segmentation': 7348,\n",
              " 'better': 803,\n",
              " 'way': 8968,\n",
              " 'current': 1895,\n",
              " 'proper': 6414,\n",
              " 'uphenceforth': 8701,\n",
              " 'implement': 3772,\n",
              " 'target': 8101,\n",
              " 'marketing': 4770,\n",
              " 'strategy': 7870,\n",
              " 'attract': 591,\n",
              " 'add': 117,\n",
              " 'r': 6603,\n",
              " 'sap': 7153,\n",
              " 'hana': 3490,\n",
              " 'pal': 5831,\n",
              " 'ms': 5312,\n",
              " 'lumira': 4618,\n",
              " 'c': 1044,\n",
              " 'linear': 4498,\n",
              " 'advance': 161,\n",
              " 'scm': 7263,\n",
              " 'retail': 6966,\n",
              " 'media': 4848,\n",
              " 'nlp': 5509,\n",
              " 'pgdm': 5984,\n",
              " 'great': 3421,\n",
              " 'lakes': 4341,\n",
              " 'management': 4696,\n",
              " 'illinois': 3757,\n",
              " 'bachelor': 680,\n",
              " 'communication': 1493,\n",
              " 'bengaluru': 796,\n",
              " 'karnataka': 4242,\n",
              " 'new': 5487,\n",
              " 'horizon': 3643,\n",
              " 'college': 1432,\n",
              " 'visvesvaraya': 8896,\n",
              " 'technological': 8176,\n",
              " 'universitydata': 8642,\n",
              " 'consultant': 1653,\n",
              " 'deloitte': 2110,\n",
              " 'usiskill': 8737,\n",
              " 'monthsretail': 5232,\n",
              " 'monthsscm': 5243,\n",
              " 'monthsdeep': 5104,\n",
              " 'monthsr': 5223,\n",
              " 'usidescription': 8734,\n",
              " 'project': 6388,\n",
              " 'involved': 4061,\n",
              " 'analysing': 312,\n",
              " 'historic': 3600,\n",
              " 'deals': 2040,\n",
              " 'coming': 1467,\n",
              " 'insights': 3934,\n",
              " 'optimize': 5707,\n",
              " 'future': 3258,\n",
              " 'dealsrole': 2041,\n",
              " 'given': 3347,\n",
              " 'raw': 6654,\n",
              " 'carried': 1122,\n",
              " 'presented': 6236,\n",
              " 'clientkey': 1338,\n",
              " 'responsibilities': 6936,\n",
              " 'client': 1334,\n",
              " 'geographies': 3325,\n",
              " 'infer': 3875,\n",
              " 'meaningful': 4834,\n",
              " 'prices': 6262,\n",
              " 'blockadestechnical': 862,\n",
              " 'environment': 2703,\n",
              " 'tableauindustry': 8061,\n",
              " 'cross': 1857,\n",
              " 'industryservice': 3870,\n",
              " 'area': 461,\n",
              " 'industry': 3866,\n",
              " 'productsproject': 6337,\n",
              " 'handwriting': 3506,\n",
              " 'recognitionconsultant': 6709,\n",
              " 'monthsthe': 5268,\n",
              " 'taking': 8084,\n",
              " 'handwritten': 3507,\n",
              " 'images': 3761,\n",
              " 'converting': 1719,\n",
              " 'digital': 2300,\n",
              " 'object': 5592,\n",
              " 'sentence': 7387,\n",
              " 'creationrole': 1830,\n",
              " 'correction': 1757,\n",
              " 'functionalitykey': 3243,\n",
              " 'gather': 3289,\n",
              " 'large': 4360,\n",
              " 'capture': 1107,\n",
              " 'english': 2656,\n",
              " 'train': 8443,\n",
              " 'lstm': 4607,\n",
              " 'wordstechnical': 9060,\n",
              " 'pythonindustry': 6540,\n",
              " 'financeservice': 3051,\n",
              " 'financial': 3052,\n",
              " 'bi': 820,\n",
              " 'swiftconsultant': 8005,\n",
              " 'develop': 2215,\n",
              " 'infrastructure': 3897,\n",
              " 'viewfinancial': 8854,\n",
              " 'respective': 6928,\n",
              " 'departments': 2126,\n",
              " 'included': 3811,\n",
              " 'expensesrole': 2872,\n",
              " 'leading': 4406,\n",
              " 'offshore': 5628,\n",
              " 'teamkey': 8146,\n",
              " 'etl': 2793,\n",
              " 'validate': 8762,\n",
              " 'reportstechnical': 6852,\n",
              " 'aoindustry': 386,\n",
              " 'healthcare': 3539,\n",
              " 'analyticsservice': 332,\n",
              " 'life': 4478,\n",
              " 'sciences': 7254,\n",
              " 'clinical': 1348,\n",
              " 'systemconsultant': 8034,\n",
              " 'argus': 471,\n",
              " 'allow': 271,\n",
              " 'users': 8730,\n",
              " 'query': 6584,\n",
              " 'faster': 2992,\n",
              " 'provide': 6446,\n",
              " 'capabilitiesrole': 1095,\n",
              " 'deploy': 2133,\n",
              " 'phase': 5991,\n",
              " 'lot': 4597,\n",
              " 'restructuring': 6957,\n",
              " 'builtmodels': 1022,\n",
              " 'insightskey': 3935,\n",
              " 'analytical': 329,\n",
              " 'nlpindustry': 5510,\n",
              " 'fmcgservice': 3120,\n",
              " 'trade': 8438,\n",
              " 'promotionproject': 6409,\n",
              " 'consumption': 1661,\n",
              " 'planning': 6045,\n",
              " 'flowers': 3109,\n",
              " 'foods': 3135,\n",
              " 'setting': 7443,\n",
              " 'crm': 1851,\n",
              " 'cbp': 1158,\n",
              " 'modulesrole': 5016,\n",
              " 'key': 4257,\n",
              " 'decomposition': 2061,\n",
              " 'base': 745,\n",
              " 'yearforecast': 9153,\n",
              " 'course': 1792,\n",
              " 'keyperformance': 4258,\n",
              " 'improvementskey': 3797,\n",
              " 'forecast': 3141,\n",
              " 'views': 8856,\n",
              " 'customersalesfunds': 1907,\n",
              " 'bobjtechnical': 900,\n",
              " 'bobj': 899,\n",
              " 'forecastinginternal': 3143,\n",
              " 'initiative': 3904,\n",
              " 'fmcgcustomer': 3119,\n",
              " 'rfm': 7008,\n",
              " 'hanapython': 3491,\n",
              " 'interface': 3997,\n",
              " 'successfully': 7922,\n",
              " 'segmented': 7349,\n",
              " 'segments': 7350,\n",
              " 'kmeans': 4282,\n",
              " 'algorithm': 254,\n",
              " 'categorize': 1148,\n",
              " 'defined': 2080,\n",
              " 'bucketstechnical': 997,\n",
              " 'telecom': 8196,\n",
              " 'invoice': 4054,\n",
              " 'reduce': 6740,\n",
              " 'manual': 4745,\n",
              " 'effort': 2540,\n",
              " 'verifying': 8815,\n",
              " 'closed': 1356,\n",
              " 'invoices': 4056,\n",
              " 'manually': 4746,\n",
              " 'itinvolved': 4113,\n",
              " 'tree': 8492,\n",
              " 'classify': 1323,\n",
              " 'openclosed': 5678,\n",
              " 'enabled': 2604,\n",
              " 'effortreduction': 2543,\n",
              " 'accenture': 30,\n",
              " 'experienceindustry': 2879,\n",
              " 'industryin': 3868,\n",
              " 'developer': 2219,\n",
              " 'monthsaccenture': 5043,\n",
              " 'solutions': 7657,\n",
              " 'pvt': 6530,\n",
              " 'indiathe': 3848,\n",
              " 'ipa': 4073,\n",
              " 'role': 7052,\n",
              " 'objects': 5595,\n",
              " 'operational': 5689,\n",
              " 'clientsrole': 1343,\n",
              " 'finance': 3048,\n",
              " 'kpis': 4304,\n",
              " 'spearheaded': 7699,\n",
              " 'deploymentsintroduced': 2141,\n",
              " 'reuse': 6984,\n",
              " 'functionalities': 3241,\n",
              " 'prepared': 6220,\n",
              " 'production': 6327,\n",
              " 'reportskey': 6850,\n",
              " 'designed': 2174,\n",
              " 'implemented': 3777,\n",
              " 'attribute': 595,\n",
              " 'view': 8852,\n",
              " 'andcalculation': 341,\n",
              " 'individually': 3854,\n",
              " 'complex': 1555,\n",
              " 'scripts': 7290,\n",
              " 'calculation': 1061,\n",
              " 'procedures': 6296,\n",
              " 'took': 8388,\n",
              " 'ownership': 5799,\n",
              " 'functionality': 3242,\n",
              " 'building': 1015,\n",
              " 'algorithms': 255,\n",
              " 'executed': 2840,\n",
              " 'server': 7403,\n",
              " 'analysistechnical': 319,\n",
              " 'tsqlindustry': 8538,\n",
              " 'industryaccenture': 3867,\n",
              " 'testing': 8245,\n",
              " 'accelerator': 28,\n",
              " 'indiarole': 3846,\n",
              " 'taken': 8081,\n",
              " 'care': 1116,\n",
              " 'atas': 567,\n",
              " 'completedvarious': 1552,\n",
              " 'deployments': 2140,\n",
              " 'productapart': 6326,\n",
              " 'actively': 91,\n",
              " 'maintenance': 4673,\n",
              " 'serversproduction': 7414,\n",
              " 'qualitykey': 6572,\n",
              " 'requirements': 6888,\n",
              " 'scope': 7267,\n",
              " 'getting': 3331,\n",
              " 'clarifiedinteracting': 1311,\n",
              " 'transform': 8458,\n",
              " 'attributemapping': 596,\n",
              " 'documents': 2392,\n",
              " 'reviewing': 6993,\n",
              " 'mapping': 4756,\n",
              " 'specification': 7709,\n",
              " 'documentation': 2387,\n",
              " 'create': 1820,\n",
              " 'update': 8687,\n",
              " 'like': 4487,\n",
              " 'tables': 8062,\n",
              " 'stored': 7855,\n",
              " 'function': 3239,\n",
              " 'monitored': 5029,\n",
              " 'error': 2737,\n",
              " 'logs': 4576,\n",
              " 'application': 407,\n",
              " 'agent': 192,\n",
              " 'diagrams': 2286,\n",
              " 'entity': 2696,\n",
              " 'relationship': 6798,\n",
              " 'uml': 8600,\n",
              " 'responsible': 6945,\n",
              " 'designing': 2180,\n",
              " 'normalization': 5539,\n",
              " 'experience': 2875,\n",
              " 'performance': 5942,\n",
              " 'tuning': 8546,\n",
              " 'profiler': 6358,\n",
              " 'uat': 8573,\n",
              " 'knowledge': 4286,\n",
              " 'transfer': 8457,\n",
              " 'support': 7973,\n",
              " 'activitiestechnical': 103,\n",
              " 'visual': 8888,\n",
              " 'studio': 7889,\n",
              " 'performancemonitor': 5946,\n",
              " 'plsql': 6089,\n",
              " 'tsql': 8537,\n",
              " 'mca': 4827,\n",
              " 'ymcaust': 9166,\n",
              " 'faridabad': 2986,\n",
              " 'haryanadata': 3520,\n",
              " 'internship': 4015,\n",
              " 'skill': 7558,\n",
              " 'structure': 7882,\n",
              " 'monthsc': 5071,\n",
              " 'monthsdata': 5097,\n",
              " 'monthscore': 5088,\n",
              " 'monthsdatabase': 5098,\n",
              " 'itechpowerdescription': 4108,\n",
              " 'basics': 752,\n",
              " 'iot': 4071,\n",
              " 'microsoft': 4928,\n",
              " 'excel': 2823,\n",
              " 'powerpoint': 6167,\n",
              " 'recognition': 6708,\n",
              " 'academic': 21,\n",
              " 'secured': 7333,\n",
              " 'place': 6034,\n",
              " 'btecheducation': 994,\n",
              " 'august': 609,\n",
              " 'ghatkesar': 3335,\n",
              " 'andhra': 346,\n",
              " 'pradesh': 6185,\n",
              " 'auroras': 611,\n",
              " 'scientific': 7257,\n",
              " 'institutejune': 3952,\n",
              " 'secondary': 7320,\n",
              " 'warangal': 8947,\n",
              " 'telangana': 8194,\n",
              " 'sr': 7758,\n",
              " 'junior': 4221,\n",
              " 'collegedata': 1438,\n",
              " 'office': 5619,\n",
              " 'description': 2154,\n",
              " 'visualization': 8890,\n",
              " 'statistics': 7831,\n",
              " 'iabac': 3708,\n",
              " 'certified': 1202,\n",
              " 'versatile': 8817,\n",
              " 'years': 9156,\n",
              " 'managing': 4731,\n",
              " 'consulting': 1657,\n",
              " 'innovation': 3914,\n",
              " 'bringing': 970,\n",
              " 'ideas': 3721,\n",
              " 'real': 6681,\n",
              " 'world': 9086,\n",
              " 'strong': 7880,\n",
              " 'advocator': 178,\n",
              " 'augmented': 608,\n",
              " 'era': 2731,\n",
              " 'human': 3693,\n",
              " 'capabilities': 1094,\n",
              " 'enhanced': 2658,\n",
              " 'machines': 4627,\n",
              " 'fahed': 2969,\n",
              " 'passionate': 5888,\n",
              " 'concepts': 1581,\n",
              " 'ai': 215,\n",
              " 'robotics': 7047,\n",
              " 'solutionseducation': 7660,\n",
              " 'b': 678,\n",
              " 'tech': 8160,\n",
              " 'mohali': 5019,\n",
              " 'punjab': 6508,\n",
              " 'indo': 3857,\n",
              " 'global': 3356,\n",
              " 'engineeringdata': 2639,\n",
              " 'datamitesskill': 1975,\n",
              " 'monthssolutions': 5253,\n",
              " 'monthstableau': 5263,\n",
              " 'datamitesdescription': 1974,\n",
              " 'analyzed': 336,\n",
              " 'processed': 6302,\n",
              " 'sets': 7442,\n",
              " 'querying': 6585,\n",
              " 'tools': 8391,\n",
              " 'loading': 4544,\n",
              " 'validation': 8764,\n",
              " 'manipulating': 4738,\n",
              " 'cleaning': 1324,\n",
              " 'visualizationcompany': 8891,\n",
              " 'heretic': 3556,\n",
              " 'ltddescription': 4609,\n",
              " 'closely': 1357,\n",
              " 'issues': 4094,\n",
              " 'propose': 6427,\n",
              " 'making': 4685,\n",
              " 'cleansing': 1325,\n",
              " 'drawing': 2429,\n",
              " 'conclusions': 1591,\n",
              " 'recommendations': 6716,\n",
              " 'statistical': 7830,\n",
              " 'produce': 6320,\n",
              " 'problems': 6292,\n",
              " 'rayat': 6656,\n",
              " 'bahra': 698,\n",
              " 'biotechnologydata': 842,\n",
              " 'scienceskill': 7255,\n",
              " 'monthstensorflow': 5266,\n",
              " 'monthsscikit': 5241,\n",
              " 'monthsgcp': 5138,\n",
              " 'monthspandas': 5207,\n",
              " 'monthsneural': 5198,\n",
              " 'network': 5476,\n",
              " 'wiprodescription': 9042,\n",
              " 'bhawana': 815,\n",
              " 'aggarwalemailbhawanachdgmailcomphone': 194,\n",
              " 'vversatile': 8924,\n",
              " 'highenergy': 3569,\n",
              " 'professional': 6343,\n",
              " 'targeting': 8103,\n",
              " 'challenging': 1213,\n",
              " 'assignments': 542,\n",
              " 'machineprofile': 4625,\n",
              " 'summary': 7945,\n",
              " 'wipro': 9041,\n",
              " 'machinelearning': 4624,\n",
              " 'skilled': 7559,\n",
              " 'endtoend': 2618,\n",
              " 'inception': 3806,\n",
              " 'requirementspecs': 6896,\n",
              " 'implementation': 3773,\n",
              " 'configuration': 1608,\n",
              " 'networknlp': 5480,\n",
              " 'gcp': 3297,\n",
              " 'libraries': 4471,\n",
              " 'seaborn': 7306,\n",
              " 'cufflinks': 1886,\n",
              " 'bias': 822,\n",
              " 'variance': 8780,\n",
              " 'offsupport': 5632,\n",
              " 'vector': 8800,\n",
              " 'machinesvmlogistic': 4630,\n",
              " 'networks': 5481,\n",
              " 'unsupervised': 8682,\n",
              " 'supervised': 7961,\n",
              " 'reinforcement': 6788,\n",
              " 'relational': 6795,\n",
              " 'platforms': 6070,\n",
              " 'mysqloracle': 5383,\n",
              " 'cjava': 1302,\n",
              " 'google': 3391,\n",
              " 'good': 3389,\n",
              " 'interpersonal': 4016,\n",
              " 'problem': 6288,\n",
              " 'solving': 7664,\n",
              " 'ability': 10,\n",
              " 'think': 8306,\n",
              " 'laterally': 4368,\n",
              " 'medium': 4858,\n",
              " 'term': 8229,\n",
              " 'long': 4582,\n",
              " 'termperspective': 8232,\n",
              " 'flexibility': 3097,\n",
              " 'attitude': 587,\n",
              " 'change': 1219,\n",
              " 'define': 2079,\n",
              " 'frameworks': 3190,\n",
              " 'emphasis': 2592,\n",
              " 'code': 1396,\n",
              " 'reusabilitytechnical': 6982,\n",
              " 'skillsprogramming': 7567,\n",
              " 'clibraries': 1332,\n",
              " 'matplotlibalgorithmsknn': 4809,\n",
              " 'logistic': 4570,\n",
              " 'k': 4228,\n",
              " 'means': 4835,\n",
              " 'clusteringtensorflow': 1376,\n",
              " 'svmdatabases': 7995,\n",
              " 'oracleoperating': 5716,\n",
              " 'windowdevelopment': 9030,\n",
              " 'environments': 2710,\n",
              " 'netbeans': 5463,\n",
              " 'notebooks': 5553,\n",
              " 'sublimeticketing': 7904,\n",
              " 'service': 7417,\n",
              " 'remedyeducationug': 6815,\n",
              " 'educationbtech': 2523,\n",
              " 'biotechnology': 841,\n",
              " 'passed': 5885,\n",
              " 'schoolingxii': 7239,\n",
              " 'moti': 5289,\n",
              " 'ram': 6630,\n",
              " 'arya': 501,\n",
              " 'schoolpassed': 7242,\n",
              " 'x': 9123,\n",
              " 'valley': 8767,\n",
              " 'school': 7230,\n",
              " 'cgpawork': 1207,\n",
              " 'experincetitle': 2883,\n",
              " 'platformteam': 6074,\n",
              " 'size': 7554,\n",
              " 'brief': 966,\n",
              " 'wipros': 9043,\n",
              " 'harnesses': 3515,\n",
              " 'power': 6163,\n",
              " 'automation': 634,\n",
              " 'artificial': 494,\n",
              " 'intelligencetechnologiesnatural': 3977,\n",
              " 'cognitive': 1408,\n",
              " 'platformcomprises': 6065,\n",
              " 'layers': 4391,\n",
              " 'engagement': 2624,\n",
              " 'easily': 2492,\n",
              " 'access': 39,\n",
              " 'manage': 4693,\n",
              " 'structured': 7883,\n",
              " 'andunstructured': 359,\n",
              " 'intent': 3985,\n",
              " 'assessment': 534,\n",
              " 'reasoning': 6692,\n",
              " 'engine': 2629,\n",
              " 'includes': 3812,\n",
              " 'predictiveanalytics': 6203,\n",
              " 'sense': 7380,\n",
              " 'act': 84,\n",
              " 'learn': 4417,\n",
              " 'entailedautomating': 2678,\n",
              " 'queries': 6580,\n",
              " 'earliest': 2487,\n",
              " 'monster': 5035,\n",
              " 'learningnlp': 4426,\n",
              " 'answered': 377,\n",
              " 'quickly': 6595,\n",
              " 'beeliminatedentity': 785,\n",
              " 'extractor': 2930,\n",
              " 'involves': 4063,\n",
              " 'extraction': 2929,\n",
              " 'fetching': 3020,\n",
              " 'important': 3784,\n",
              " 'likedates': 4488,\n",
              " 'places': 6036,\n",
              " 'contact': 1662,\n",
              " 'regex': 6765,\n",
              " 'bluemix': 871,\n",
              " 'nlu': 5513,\n",
              " 'apis': 397,\n",
              " 'usingtensor': 8736,\n",
              " 'entitiesclassifier': 2693,\n",
              " 'classifications': 1321,\n",
              " 'classes': 1315,\n",
              " 'training': 8449,\n",
              " 'dataset': 1980,\n",
              " 'predicting': 6201,\n",
              " 'output': 5778,\n",
              " 'sklearnclassifier': 7570,\n",
              " 'mnb': 4987,\n",
              " 'sgd': 7452,\n",
              " 'optimization': 5705,\n",
              " 'bestsuited': 802,\n",
              " 'response': 6934,\n",
              " 'efficientner': 2538,\n",
              " 'ner': 5456,\n",
              " 'trained': 8444,\n",
              " ...}"
            ]
          },
          "metadata": {},
          "execution_count": 38
        }
      ]
    },
    {
      "cell_type": "markdown",
      "source": [
        "#Vectorization\n",
        "\n",
        "Count Vectorizer tells the frequency of a word"
      ],
      "metadata": {
        "id": "CZ99G2tdPkuD"
      }
    },
    {
      "cell_type": "code",
      "source": [
        "vectorizer1 = CountVectorizer(min_df = 1, max_df = 0.9)\n",
        "count_vect = vectorizer1.fit_transform(Resumes[\"Resume\"])\n",
        "word_freq_df = pd.DataFrame({'term': vectorizer1.get_feature_names(), 'occurrences':np.asarray(count_vect.sum(axis=0)).ravel().tolist()})\n",
        "word_freq_df['frequency'] = word_freq_df['occurrences']/np.sum(word_freq_df['occurrences'])\n",
        "word_freq_df"
      ],
      "metadata": {
        "colab": {
          "base_uri": "https://localhost:8080/",
          "height": 424
        },
        "id": "m-h1AhOpOI9j",
        "outputId": "14a504b3-7fda-41a0-d597-d063fa5a4438"
      },
      "execution_count": null,
      "outputs": [
        {
          "output_type": "execute_result",
          "data": {
            "text/plain": [
              "           term  occurrences  frequency\n",
              "0           aaa            5   0.000018\n",
              "1           aag            3   0.000011\n",
              "2       aakruti            3   0.000011\n",
              "3            ab           14   0.000051\n",
              "4        abacus           20   0.000073\n",
              "...         ...          ...        ...\n",
              "9267       zero           11   0.000040\n",
              "9268  zhypility           16   0.000059\n",
              "9269       zone           31   0.000114\n",
              "9270  zookeeper            6   0.000022\n",
              "9271         zz            4   0.000015\n",
              "\n",
              "[9272 rows x 3 columns]"
            ],
            "text/html": [
              "\n",
              "  <div id=\"df-130cd7d5-7067-4787-b32b-ea7eeba5fb0f\">\n",
              "    <div class=\"colab-df-container\">\n",
              "      <div>\n",
              "<style scoped>\n",
              "    .dataframe tbody tr th:only-of-type {\n",
              "        vertical-align: middle;\n",
              "    }\n",
              "\n",
              "    .dataframe tbody tr th {\n",
              "        vertical-align: top;\n",
              "    }\n",
              "\n",
              "    .dataframe thead th {\n",
              "        text-align: right;\n",
              "    }\n",
              "</style>\n",
              "<table border=\"1\" class=\"dataframe\">\n",
              "  <thead>\n",
              "    <tr style=\"text-align: right;\">\n",
              "      <th></th>\n",
              "      <th>term</th>\n",
              "      <th>occurrences</th>\n",
              "      <th>frequency</th>\n",
              "    </tr>\n",
              "  </thead>\n",
              "  <tbody>\n",
              "    <tr>\n",
              "      <th>0</th>\n",
              "      <td>aaa</td>\n",
              "      <td>5</td>\n",
              "      <td>0.000018</td>\n",
              "    </tr>\n",
              "    <tr>\n",
              "      <th>1</th>\n",
              "      <td>aag</td>\n",
              "      <td>3</td>\n",
              "      <td>0.000011</td>\n",
              "    </tr>\n",
              "    <tr>\n",
              "      <th>2</th>\n",
              "      <td>aakruti</td>\n",
              "      <td>3</td>\n",
              "      <td>0.000011</td>\n",
              "    </tr>\n",
              "    <tr>\n",
              "      <th>3</th>\n",
              "      <td>ab</td>\n",
              "      <td>14</td>\n",
              "      <td>0.000051</td>\n",
              "    </tr>\n",
              "    <tr>\n",
              "      <th>4</th>\n",
              "      <td>abacus</td>\n",
              "      <td>20</td>\n",
              "      <td>0.000073</td>\n",
              "    </tr>\n",
              "    <tr>\n",
              "      <th>...</th>\n",
              "      <td>...</td>\n",
              "      <td>...</td>\n",
              "      <td>...</td>\n",
              "    </tr>\n",
              "    <tr>\n",
              "      <th>9267</th>\n",
              "      <td>zero</td>\n",
              "      <td>11</td>\n",
              "      <td>0.000040</td>\n",
              "    </tr>\n",
              "    <tr>\n",
              "      <th>9268</th>\n",
              "      <td>zhypility</td>\n",
              "      <td>16</td>\n",
              "      <td>0.000059</td>\n",
              "    </tr>\n",
              "    <tr>\n",
              "      <th>9269</th>\n",
              "      <td>zone</td>\n",
              "      <td>31</td>\n",
              "      <td>0.000114</td>\n",
              "    </tr>\n",
              "    <tr>\n",
              "      <th>9270</th>\n",
              "      <td>zookeeper</td>\n",
              "      <td>6</td>\n",
              "      <td>0.000022</td>\n",
              "    </tr>\n",
              "    <tr>\n",
              "      <th>9271</th>\n",
              "      <td>zz</td>\n",
              "      <td>4</td>\n",
              "      <td>0.000015</td>\n",
              "    </tr>\n",
              "  </tbody>\n",
              "</table>\n",
              "<p>9272 rows × 3 columns</p>\n",
              "</div>\n",
              "      <button class=\"colab-df-convert\" onclick=\"convertToInteractive('df-130cd7d5-7067-4787-b32b-ea7eeba5fb0f')\"\n",
              "              title=\"Convert this dataframe to an interactive table.\"\n",
              "              style=\"display:none;\">\n",
              "        \n",
              "  <svg xmlns=\"http://www.w3.org/2000/svg\" height=\"24px\"viewBox=\"0 0 24 24\"\n",
              "       width=\"24px\">\n",
              "    <path d=\"M0 0h24v24H0V0z\" fill=\"none\"/>\n",
              "    <path d=\"M18.56 5.44l.94 2.06.94-2.06 2.06-.94-2.06-.94-.94-2.06-.94 2.06-2.06.94zm-11 1L8.5 8.5l.94-2.06 2.06-.94-2.06-.94L8.5 2.5l-.94 2.06-2.06.94zm10 10l.94 2.06.94-2.06 2.06-.94-2.06-.94-.94-2.06-.94 2.06-2.06.94z\"/><path d=\"M17.41 7.96l-1.37-1.37c-.4-.4-.92-.59-1.43-.59-.52 0-1.04.2-1.43.59L10.3 9.45l-7.72 7.72c-.78.78-.78 2.05 0 2.83L4 21.41c.39.39.9.59 1.41.59.51 0 1.02-.2 1.41-.59l7.78-7.78 2.81-2.81c.8-.78.8-2.07 0-2.86zM5.41 20L4 18.59l7.72-7.72 1.47 1.35L5.41 20z\"/>\n",
              "  </svg>\n",
              "      </button>\n",
              "      \n",
              "  <style>\n",
              "    .colab-df-container {\n",
              "      display:flex;\n",
              "      flex-wrap:wrap;\n",
              "      gap: 12px;\n",
              "    }\n",
              "\n",
              "    .colab-df-convert {\n",
              "      background-color: #E8F0FE;\n",
              "      border: none;\n",
              "      border-radius: 50%;\n",
              "      cursor: pointer;\n",
              "      display: none;\n",
              "      fill: #1967D2;\n",
              "      height: 32px;\n",
              "      padding: 0 0 0 0;\n",
              "      width: 32px;\n",
              "    }\n",
              "\n",
              "    .colab-df-convert:hover {\n",
              "      background-color: #E2EBFA;\n",
              "      box-shadow: 0px 1px 2px rgba(60, 64, 67, 0.3), 0px 1px 3px 1px rgba(60, 64, 67, 0.15);\n",
              "      fill: #174EA6;\n",
              "    }\n",
              "\n",
              "    [theme=dark] .colab-df-convert {\n",
              "      background-color: #3B4455;\n",
              "      fill: #D2E3FC;\n",
              "    }\n",
              "\n",
              "    [theme=dark] .colab-df-convert:hover {\n",
              "      background-color: #434B5C;\n",
              "      box-shadow: 0px 1px 3px 1px rgba(0, 0, 0, 0.15);\n",
              "      filter: drop-shadow(0px 1px 2px rgba(0, 0, 0, 0.3));\n",
              "      fill: #FFFFFF;\n",
              "    }\n",
              "  </style>\n",
              "\n",
              "      <script>\n",
              "        const buttonEl =\n",
              "          document.querySelector('#df-130cd7d5-7067-4787-b32b-ea7eeba5fb0f button.colab-df-convert');\n",
              "        buttonEl.style.display =\n",
              "          google.colab.kernel.accessAllowed ? 'block' : 'none';\n",
              "\n",
              "        async function convertToInteractive(key) {\n",
              "          const element = document.querySelector('#df-130cd7d5-7067-4787-b32b-ea7eeba5fb0f');\n",
              "          const dataTable =\n",
              "            await google.colab.kernel.invokeFunction('convertToInteractive',\n",
              "                                                     [key], {});\n",
              "          if (!dataTable) return;\n",
              "\n",
              "          const docLinkHtml = 'Like what you see? Visit the ' +\n",
              "            '<a target=\"_blank\" href=https://colab.research.google.com/notebooks/data_table.ipynb>data table notebook</a>'\n",
              "            + ' to learn more about interactive tables.';\n",
              "          element.innerHTML = '';\n",
              "          dataTable['output_type'] = 'display_data';\n",
              "          await google.colab.output.renderOutput(dataTable, element);\n",
              "          const docLink = document.createElement('div');\n",
              "          docLink.innerHTML = docLinkHtml;\n",
              "          element.appendChild(docLink);\n",
              "        }\n",
              "      </script>\n",
              "    </div>\n",
              "  </div>\n",
              "  "
            ]
          },
          "metadata": {},
          "execution_count": 34
        }
      ]
    },
    {
      "cell_type": "code",
      "source": [
        "sns.distplot(x=[word_freq_df['frequency']])"
      ],
      "metadata": {
        "colab": {
          "base_uri": "https://localhost:8080/",
          "height": 282
        },
        "id": "4yJJVvktOI_h",
        "outputId": "d05a31c0-8da0-4433-9102-faad829991c4"
      },
      "execution_count": null,
      "outputs": [
        {
          "output_type": "execute_result",
          "data": {
            "text/plain": [
              "<matplotlib.axes._subplots.AxesSubplot at 0x7f6e3563c850>"
            ]
          },
          "metadata": {},
          "execution_count": 35
        },
        {
          "output_type": "display_data",
          "data": {
            "text/plain": [
              "<Figure size 432x288 with 1 Axes>"
            ],
            "image/png": "[encoded data removed]"
          },
          "metadata": {
            "needs_background": "light"
          }
        }
      ]
    },
    {
      "cell_type": "code",
      "source": [
        "from sklearn.model_selection import train_test_split\n",
        "from sklearn.feature_extraction.text import TfidfVectorizer\n",
        "from scipy.sparse import hstack\n",
        "import pandas as pd\n",
        "from sklearn.feature_extraction.text import TfidfVectorizer,CountVectorizer\n",
        "from sklearn.pipeline import Pipeline\n",
        "from sklearn.metrics import accuracy_score, classification_report, confusion_matrix"
      ],
      "metadata": {
        "id": "GJNkZ-DhOJDt"
      },
      "execution_count": null,
      "outputs": []
    },
    {
      "cell_type": "code",
      "source": [
        "word_vectorizer = TfidfVectorizer(sublinear_tf=True, stop_words='english',max_features=1500)\n",
        "word_vectorizer.fit(requiredText)\n",
        "WordFeatures = word_vectorizer.transform(requiredText)"
      ],
      "metadata": {
        "id": "dcJOeBQ_OJFT"
      },
      "execution_count": null,
      "outputs": []
    },
    {
      "cell_type": "markdown",
      "source": [
        "#Model Building"
      ],
      "metadata": {
        "id": "eZWGUTd7ShFN"
      }
    },
    {
      "cell_type": "markdown",
      "source": [
        "**Data Preparation**"
      ],
      "metadata": {
        "id": "8_ADIXGbSnFf"
      }
    },
    {
      "cell_type": "code",
      "source": [
        "x_train,x_test,y_train,y_test = train_test_split(WordFeatures, requiredTarget, random_state=0, test_size=0.2)\n",
        "print(\"X Train shape:\",x_train.shape)\n",
        "print(\"Y Train shape:\",y_train.shape)\n",
        "print(\"x Test shape:\",x_test.shape)\n",
        "print(\"y Test shape:\",y_test.shape)"
      ],
      "metadata": {
        "colab": {
          "base_uri": "https://localhost:8080/"
        },
        "id": "K-1a9soOOJIq",
        "outputId": "23797b15-fb4d-4938-dcb5-8ba87ac3a94b"
      },
      "execution_count": null,
      "outputs": [
        {
          "output_type": "stream",
          "name": "stdout",
          "text": [
            "X Train shape: (769, 1500)\n",
            "Y Train shape: (769,)\n",
            "x Test shape: (193, 1500)\n",
            "y Test shape: (193,)\n"
          ]
        }
      ]
    },
    {
      "cell_type": "markdown",
      "source": [
        "#1. LOGISTIC REGRESSION"
      ],
      "metadata": {
        "id": "rcIWrMHkSuQI"
      }
    },
    {
      "cell_type": "code",
      "source": [
        "#IMPORTING NECESSARY LIBRARIES FOR LOGISTIC REGRESSION\n",
        "from sklearn.linear_model import LogisticRegression\n",
        "from sklearn.multiclass import OneVsRestClassifier\n",
        "from sklearn.metrics import confusion_matrix,roc_auc_score,accuracy_score,precision_score,recall_score,f1_score"
      ],
      "metadata": {
        "id": "RNjQ7YNDOJKl"
      },
      "execution_count": null,
      "outputs": []
    },
    {
      "cell_type": "code",
      "source": [
        "logistic_classifier = LogisticRegression()\n",
        "logistic_classifier.fit(x_train,y_train)\n",
        "\n",
        "#predicting on Training Data\n",
        "pred_train_log = logistic_classifier.predict(x_train)\n",
        "\n",
        "#Accuracy on Train data\n",
        "train_acc_log = np.mean(pred_train_log==y_train)\n",
        "print(\"Accuracy of Train data in Logistic Regression: \", train_acc_log)\n",
        "\n",
        "#Predicting on Test Data\n",
        "pred_test_log = logistic_classifier.predict(x_test)\n",
        "#Accuracy on Test Data\n",
        "test_acc_log = np.mean(pred_test_log==y_test)\n",
        "print(\"Accuracy of test data in Logistic regression\", test_acc_log)\n",
        "\n",
        "#Confusion Matrix\n",
        "logistic_cm = confusion_matrix(y_test, pred_test_log)\n",
        "\n",
        "#Classification Report\n",
        "print('Classification report of Logistic regression: \\n', classification_report(y_test, pred_test_log))"
      ],
      "metadata": {
        "colab": {
          "base_uri": "https://localhost:8080/"
        },
        "id": "KwYcd9k2OJOP",
        "outputId": "f97020e1-2f6e-4119-b96b-c24543f4fb53"
      },
      "execution_count": null,
      "outputs": [
        {
          "output_type": "stream",
          "name": "stdout",
          "text": [
            "Accuracy of Train data in Logistic Regression:  0.9986996098829649\n",
            "Accuracy of test data in Logistic regression 0.9896373056994818\n",
            "Classification report of Logistic regression: \n",
            "               precision    recall  f1-score   support\n",
            "\n",
            "           0       1.00      1.00      1.00         3\n",
            "           1       1.00      1.00      1.00         3\n",
            "           2       1.00      0.80      0.89         5\n",
            "           3       1.00      1.00      1.00         9\n",
            "           4       1.00      1.00      1.00         6\n",
            "           5       1.00      1.00      1.00         5\n",
            "           6       1.00      1.00      1.00         9\n",
            "           7       1.00      1.00      1.00         7\n",
            "           8       1.00      0.91      0.95        11\n",
            "           9       1.00      1.00      1.00         9\n",
            "          10       1.00      1.00      1.00         8\n",
            "          11       0.90      1.00      0.95         9\n",
            "          12       1.00      1.00      1.00         5\n",
            "          13       1.00      1.00      1.00         9\n",
            "          14       1.00      1.00      1.00         7\n",
            "          15       0.95      1.00      0.97        19\n",
            "          16       1.00      1.00      1.00         3\n",
            "          17       1.00      1.00      1.00         4\n",
            "          18       1.00      1.00      1.00         5\n",
            "          19       1.00      1.00      1.00         6\n",
            "          20       1.00      1.00      1.00        11\n",
            "          21       1.00      1.00      1.00         4\n",
            "          22       1.00      1.00      1.00        13\n",
            "          23       1.00      1.00      1.00        15\n",
            "          24       1.00      1.00      1.00         8\n",
            "\n",
            "    accuracy                           0.99       193\n",
            "   macro avg       0.99      0.99      0.99       193\n",
            "weighted avg       0.99      0.99      0.99       193\n",
            "\n"
          ]
        }
      ]
    },
    {
      "cell_type": "code",
      "source": [
        "accuracy_log = round(accuracy_score(y_test,pred_test_log),4)\n",
        "precision_log = round(precision_score(y_test,pred_test_log,average = 'macro'),4)\n",
        "recall_log = round(recall_score(y_test,pred_test_log,average = 'macro'),4)\n",
        "f1_log = round(f1_score(y_test,pred_test_log,average = 'macro'),4)\n",
        "\n",
        "#Printing Accuracy, Recall, precision, F1_score\n",
        "print('Accuracy Score   : ',accuracy_log )\n",
        "print('Precision Score  : ',precision_log )\n",
        "print('Recall Score     : ', recall_log)\n",
        "print('f1-Score         : ',f1_log )"
      ],
      "metadata": {
        "colab": {
          "base_uri": "https://localhost:8080/"
        },
        "id": "vNWTfc8eOJRC",
        "outputId": "198275bc-1d4a-4b63-bf24-32c111beac9b"
      },
      "execution_count": null,
      "outputs": [
        {
          "output_type": "stream",
          "name": "stdout",
          "text": [
            "Accuracy Score   :  0.9896\n",
            "Precision Score  :  0.994\n",
            "Recall Score     :  0.9884\n",
            "f1-Score         :  0.9905\n"
          ]
        }
      ]
    },
    {
      "cell_type": "markdown",
      "source": [
        "#2. DECISION TREE"
      ],
      "metadata": {
        "id": "-iM8Mc5tWWma"
      }
    },
    {
      "cell_type": "code",
      "source": [
        "#IMPORTING NECESSARY LIBRARIES FOR DECISION TREE\n",
        "from sklearn import tree\n",
        "from sklearn.tree import DecisionTreeClassifier\n",
        "\n",
        "DT = DecisionTreeClassifier()\n",
        "DT_classifier = DecisionTreeClassifier(criterion = 'entropy', max_depth=2)\n",
        "DT_classifier.fit(x_train,y_train)\n",
        "\n",
        "#Predicting on Train Data\n",
        "pred_train_dt = DT_classifier.predict(x_train)\n",
        "#Accuracy On Train Data\n",
        "train_acc_dt = np.mean(pred_train_dt==y_train)\n",
        "print(\"ACCURACY OF TRAIN DATA IN DECISION TREE:\",train_acc_dt )\n",
        "\n",
        "#Predicting on Test Data\n",
        "pred_test_dt = DT_classifier.predict(x_test)\n",
        "#Accuracy on Test Data\n",
        "test_acc_dt = np.mean(pred_test_dt==y_test)\n",
        "print(\"ACCURACY OF TEST DATA IN DECISION TREE:\",test_acc_dt )\n",
        "\n",
        "#Confusion Matrix\n",
        "dt_cm = confusion_matrix(y_test,pred_test_dt)\n",
        "\n",
        "#Classification Report\n",
        "print(\"CLASSIFICATION REPORT OF DECISION TREE:\\n\", classification_report(y_test,pred_test_dt))"
      ],
      "metadata": {
        "colab": {
          "base_uri": "https://localhost:8080/"
        },
        "id": "ezjUIaFiWUps",
        "outputId": "c044ab40-18b1-4dd8-b3d4-77f1b98c90aa"
      },
      "execution_count": null,
      "outputs": [
        {
          "output_type": "stream",
          "name": "stdout",
          "text": [
            "ACCURACY OF TRAIN DATA IN DECISION TREE: 0.24317295188556567\n",
            "ACCURACY OF TEST DATA IN DECISION TREE: 0.25906735751295334\n",
            "CLASSIFICATION REPORT OF DECISION TREE:\n",
            "               precision    recall  f1-score   support\n",
            "\n",
            "           0       0.00      0.00      0.00         3\n",
            "           1       0.00      0.00      0.00         3\n",
            "           2       0.00      0.00      0.00         5\n",
            "           3       0.00      0.00      0.00         9\n",
            "           4       0.00      0.00      0.00         6\n",
            "           5       0.00      0.00      0.00         5\n",
            "           6       0.00      0.00      0.00         9\n",
            "           7       0.00      0.00      0.00         7\n",
            "           8       0.22      1.00      0.36        11\n",
            "           9       0.00      0.00      0.00         9\n",
            "          10       0.00      0.00      0.00         8\n",
            "          11       0.00      0.00      0.00         9\n",
            "          12       0.00      0.00      0.00         5\n",
            "          13       0.00      0.00      0.00         9\n",
            "          14       0.00      0.00      0.00         7\n",
            "          15       1.00      1.00      1.00        19\n",
            "          16       0.00      0.00      0.00         3\n",
            "          17       0.00      0.00      0.00         4\n",
            "          18       0.00      0.00      0.00         5\n",
            "          19       0.00      0.00      0.00         6\n",
            "          20       0.22      1.00      0.35        11\n",
            "          21       0.00      0.00      0.00         4\n",
            "          22       0.00      0.00      0.00        13\n",
            "          23       0.12      0.60      0.20        15\n",
            "          24       0.00      0.00      0.00         8\n",
            "\n",
            "    accuracy                           0.26       193\n",
            "   macro avg       0.06      0.14      0.08       193\n",
            "weighted avg       0.13      0.26      0.16       193\n",
            "\n"
          ]
        }
      ]
    },
    {
      "cell_type": "code",
      "source": [
        "accuracy_dt = round(accuracy_score(y_test,pred_test_dt),4)\n",
        "precision_dt = round(precision_score(y_test,pred_test_dt,average = 'macro'),4)\n",
        "recall_dt = round(recall_score(y_test,pred_test_dt,average = 'macro'),4)\n",
        "f1_dt = round(f1_score(y_test,pred_test_dt,average = 'macro'),4)\n",
        "\n",
        "#Printing Accuracy, Recall, precision, F1_score\n",
        "print('Accuracy Score   : ',accuracy_dt )\n",
        "print('Precision Score  : ',precision_dt )\n",
        "print('Recall Score     : ', recall_dt)\n",
        "print('f1-Score         : ',f1_dt )"
      ],
      "metadata": {
        "colab": {
          "base_uri": "https://localhost:8080/"
        },
        "id": "8Im5OANYWm6y",
        "outputId": "450d18d0-5101-4a90-f334-909815692d28"
      },
      "execution_count": null,
      "outputs": [
        {
          "output_type": "stream",
          "name": "stdout",
          "text": [
            "Accuracy Score   :  0.2591\n",
            "Precision Score  :  0.0624\n",
            "Recall Score     :  0.144\n",
            "f1-Score         :  0.0768\n"
          ]
        }
      ]
    },
    {
      "cell_type": "markdown",
      "source": [
        "#3. RANDOM FOREST"
      ],
      "metadata": {
        "id": "_3yoU4aFWvcy"
      }
    },
    {
      "cell_type": "code",
      "source": [
        "#IMPORTING NECESSARY LIBRARIES FOR RANDOM FOREST\n",
        "from sklearn.model_selection import KFold\n",
        "from sklearn.model_selection import cross_val_score\n",
        "from sklearn.ensemble import RandomForestClassifier"
      ],
      "metadata": {
        "id": "McyzBJwVWtP9"
      },
      "execution_count": null,
      "outputs": []
    },
    {
      "cell_type": "code",
      "source": [
        "RF = {'n_estimators':15,'class_weight': \"balanced\",'n_jobs':-1,'random_state':42}\n",
        "RF_classifier = RandomForestClassifier(**RF)\n",
        "RF_classifier.fit(x_train,y_train)\n",
        "\n",
        "#Predicting on Train Data\n",
        "pred_train_rf = RF_classifier.predict(x_train)\n",
        "#Accuracy On Train Data\n",
        "train_acc_rf = np.mean(pred_train_rf==y_train)\n",
        "print(\"ACCURACY OF TRAIN DATA IN RANDOM FOREST:\",train_acc_rf)\n",
        "\n",
        "#Predicting on Test Data\n",
        "pred_test_rf = RF_classifier.predict(x_test)\n",
        "#Accuracy On Test Data\n",
        "test_acc_rf = np.mean(pred_test_rf==y_test)\n",
        "print(\"ACCURACY OF TEST DATA IN RANDOM FOREST:\",test_acc_rf )\n",
        "\n",
        "#Confusion Matrix\n",
        "rf_cm = confusion_matrix(y_test,pred_test_rf)\n",
        "\n",
        "#Classification Report\n",
        "print(\"CLASSIFICATION REPORT OF RANDOM FOREST:\\n\", classification_report(y_test,pred_test_rf))"
      ],
      "metadata": {
        "colab": {
          "base_uri": "https://localhost:8080/"
        },
        "id": "pQrRw5JjW1X9",
        "outputId": "c2f29a6c-cb20-45f0-b739-7e7753d29739"
      },
      "execution_count": null,
      "outputs": [
        {
          "output_type": "stream",
          "name": "stdout",
          "text": [
            "ACCURACY OF TRAIN DATA IN RANDOM FOREST: 1.0\n",
            "ACCURACY OF TEST DATA IN RANDOM FOREST: 1.0\n",
            "CLASSIFICATION REPORT OF RANDOM FOREST:\n",
            "               precision    recall  f1-score   support\n",
            "\n",
            "           0       1.00      1.00      1.00         3\n",
            "           1       1.00      1.00      1.00         3\n",
            "           2       1.00      1.00      1.00         5\n",
            "           3       1.00      1.00      1.00         9\n",
            "           4       1.00      1.00      1.00         6\n",
            "           5       1.00      1.00      1.00         5\n",
            "           6       1.00      1.00      1.00         9\n",
            "           7       1.00      1.00      1.00         7\n",
            "           8       1.00      1.00      1.00        11\n",
            "           9       1.00      1.00      1.00         9\n",
            "          10       1.00      1.00      1.00         8\n",
            "          11       1.00      1.00      1.00         9\n",
            "          12       1.00      1.00      1.00         5\n",
            "          13       1.00      1.00      1.00         9\n",
            "          14       1.00      1.00      1.00         7\n",
            "          15       1.00      1.00      1.00        19\n",
            "          16       1.00      1.00      1.00         3\n",
            "          17       1.00      1.00      1.00         4\n",
            "          18       1.00      1.00      1.00         5\n",
            "          19       1.00      1.00      1.00         6\n",
            "          20       1.00      1.00      1.00        11\n",
            "          21       1.00      1.00      1.00         4\n",
            "          22       1.00      1.00      1.00        13\n",
            "          23       1.00      1.00      1.00        15\n",
            "          24       1.00      1.00      1.00         8\n",
            "\n",
            "    accuracy                           1.00       193\n",
            "   macro avg       1.00      1.00      1.00       193\n",
            "weighted avg       1.00      1.00      1.00       193\n",
            "\n"
          ]
        }
      ]
    },
    {
      "cell_type": "code",
      "source": [
        "accuracy_rf = round(accuracy_score(y_test,pred_test_rf),4)\n",
        "precision_rf = round(precision_score(y_test,pred_test_rf,average = 'macro'),4)\n",
        "recall_rf = round(recall_score(y_test,pred_test_rf,average = 'macro'),4)\n",
        "f1_rf = round(f1_score(y_test,pred_test_rf,average = 'macro'),4)\n",
        "\n",
        "#Printing Accuracy, Recall, precision, F1_score\n",
        "print('Accuracy Score   : ',accuracy_rf )\n",
        "print('Precision Score  : ',precision_rf )\n",
        "print('Recall Score     : ', recall_rf)\n",
        "print('f1-Score         : ',f1_rf )"
      ],
      "metadata": {
        "colab": {
          "base_uri": "https://localhost:8080/"
        },
        "id": "cdxHv1IwW4eR",
        "outputId": "45baa6ee-2185-472f-dab7-3e00944977a2"
      },
      "execution_count": null,
      "outputs": [
        {
          "output_type": "stream",
          "name": "stdout",
          "text": [
            "Accuracy Score   :  1.0\n",
            "Precision Score  :  1.0\n",
            "Recall Score     :  1.0\n",
            "f1-Score         :  1.0\n"
          ]
        }
      ]
    },
    {
      "cell_type": "markdown",
      "source": [
        "#4. MULTINOMIAL NAVIE BAYES"
      ],
      "metadata": {
        "id": "0EpYjqY_W-e_"
      }
    },
    {
      "cell_type": "code",
      "source": [
        "#IMPORTING NECESSARY LIBRARIES FOR MULTINOMIAL NAVIE BAYES\n",
        "from sklearn.naive_bayes import MultinomialNB as MB\n",
        "classifier_mb = MB()\n",
        "classifier_mb.fit(x_train,y_train)\n",
        "\n",
        "#Predicting On Train Data\n",
        "pred_train_mb = classifier_mb.predict(x_train)\n",
        "#Accuracy On Train Data\n",
        "train_acc_mb = np.mean(pred_train_mb==y_train)\n",
        "print(\"ACCURACY OF TRAIN DATA IN MULTINOMIAL NAVIE BAYES:\", train_acc_mb)\n",
        "\n",
        "#Predicting On Test Data\n",
        "pred_test_mb = classifier_mb.predict(x_test)\n",
        "#Accuracy On Test Data\n",
        "test_acc_mb = np.mean(pred_test_mb==y_test)\n",
        "print(\"ACCURACY OF TEST DATA IN MULTINOMIAL NAVIE BAYES:\", test_acc_mb)\n",
        "\n",
        "#Confusion Matrix\n",
        "mb_cm = confusion_matrix(y_test,pred_test_mb)\n",
        "\n",
        "#Classification Report\n",
        "print(\"CLASSIFICATION REPORT OF MULTINOMIAL NAVIE BAYES:\\n\", classification_report(y_test,pred_test_mb))"
      ],
      "metadata": {
        "colab": {
          "base_uri": "https://localhost:8080/"
        },
        "id": "r8v-W9hQW8U3",
        "outputId": "4289dc81-2b0f-423e-b2f1-8ecb377319b4"
      },
      "execution_count": null,
      "outputs": [
        {
          "output_type": "stream",
          "name": "stdout",
          "text": [
            "ACCURACY OF TRAIN DATA IN MULTINOMIAL NAVIE BAYES: 0.9713914174252276\n",
            "ACCURACY OF TEST DATA IN MULTINOMIAL NAVIE BAYES: 0.9533678756476683\n",
            "CLASSIFICATION REPORT OF MULTINOMIAL NAVIE BAYES:\n",
            "               precision    recall  f1-score   support\n",
            "\n",
            "           0       1.00      0.67      0.80         3\n",
            "           1       0.75      1.00      0.86         3\n",
            "           2       1.00      0.80      0.89         5\n",
            "           3       1.00      1.00      1.00         9\n",
            "           4       1.00      0.83      0.91         6\n",
            "           5       1.00      1.00      1.00         5\n",
            "           6       1.00      1.00      1.00         9\n",
            "           7       1.00      1.00      1.00         7\n",
            "           8       1.00      0.91      0.95        11\n",
            "           9       1.00      0.44      0.62         9\n",
            "          10       1.00      1.00      1.00         8\n",
            "          11       1.00      1.00      1.00         9\n",
            "          12       1.00      1.00      1.00         5\n",
            "          13       1.00      1.00      1.00         9\n",
            "          14       1.00      1.00      1.00         7\n",
            "          15       0.76      1.00      0.86        19\n",
            "          16       1.00      1.00      1.00         3\n",
            "          17       1.00      1.00      1.00         4\n",
            "          18       1.00      1.00      1.00         5\n",
            "          19       1.00      1.00      1.00         6\n",
            "          20       0.92      1.00      0.96        11\n",
            "          21       1.00      1.00      1.00         4\n",
            "          22       1.00      1.00      1.00        13\n",
            "          23       0.94      1.00      0.97        15\n",
            "          24       1.00      1.00      1.00         8\n",
            "\n",
            "    accuracy                           0.95       193\n",
            "   macro avg       0.97      0.95      0.95       193\n",
            "weighted avg       0.96      0.95      0.95       193\n",
            "\n"
          ]
        }
      ]
    },
    {
      "cell_type": "code",
      "source": [
        "accuracy_mb = round(accuracy_score(y_test,pred_test_mb),4)\n",
        "precision_mb = round(precision_score(y_test,pred_test_mb,average = 'macro'),4)\n",
        "recall_mb = round(recall_score(y_test,pred_test_mb,average = 'macro'),4)\n",
        "f1_mb = round(f1_score(y_test,pred_test_mb,average = 'macro'),4)\n",
        "\n",
        "#Printing Accuracy, Recall, precision, F1_score\n",
        "print('Accuracy Score   : ',accuracy_mb )\n",
        "print('Precision Score  : ',precision_mb )\n",
        "print('Recall Score     : ', recall_mb)\n",
        "print('f1-Score         : ',f1_mb )"
      ],
      "metadata": {
        "colab": {
          "base_uri": "https://localhost:8080/"
        },
        "id": "8vsCCuvaXJUd",
        "outputId": "baba23c8-7e72-4707-db45-78f4561eef31"
      },
      "execution_count": null,
      "outputs": [
        {
          "output_type": "stream",
          "name": "stdout",
          "text": [
            "Accuracy Score   :  0.9534\n",
            "Precision Score  :  0.9746\n",
            "Recall Score     :  0.9461\n",
            "f1-Score         :  0.9524\n"
          ]
        }
      ]
    },
    {
      "cell_type": "markdown",
      "source": [
        "#5. SUPPORT VECTOR MACHINE"
      ],
      "metadata": {
        "id": "x4kKkhF1XPmO"
      }
    },
    {
      "cell_type": "code",
      "source": [
        "##IMPORTING NECESSARY LIBRARIES FOR SUPPORT VECTOR MACHINE\n",
        "from sklearn import svm\n",
        "from sklearn.svm import SVC\n",
        "from sklearn.model_selection import GridSearchCV\n",
        "\n",
        "svm_classifier = (SVC(kernel='linear'))\n",
        "svm_classifier.fit(x_train,y_train)\n",
        "\n",
        "#Predicting On Train Data\n",
        "pred_train_svm = svm_classifier.predict(x_train)\n",
        "#Accuracy On Train Data\n",
        "train_acc_svm = np.mean(pred_train_svm==y_train)\n",
        "print(\"ACCURACY OF TRAIN DATA IN SUPPORT VECTOR MACHINE:\",train_acc_svm )\n",
        "\n",
        "#Prediciting On Test Data\n",
        "pred_test_svm = svm_classifier.predict(x_test)\n",
        "#Accuracy On Test Data\n",
        "test_acc_svm = np.mean(pred_test_svm==y_test)\n",
        "print(\"ACCURACY OF TEST DATA IN SUPPORT VECTOR MACHINE:\",test_acc_svm)\n",
        "\n",
        "#Confusion Matrix\n",
        "svm_cm = confusion_matrix(y_test,pred_test_svm)\n",
        "\n",
        "#Classification Report\n",
        "print(\"CLASSIFICATION REPORT OF SUPPORT VECTOR MACHINE:\\n\", classification_report(y_test,pred_test_svm))"
      ],
      "metadata": {
        "colab": {
          "base_uri": "https://localhost:8080/"
        },
        "id": "9-cjcrseXNiT",
        "outputId": "17313b18-7233-4937-8cd4-3d9379606d16"
      },
      "execution_count": null,
      "outputs": [
        {
          "output_type": "stream",
          "name": "stdout",
          "text": [
            "ACCURACY OF TRAIN DATA IN SUPPORT VECTOR MACHINE: 1.0\n",
            "ACCURACY OF TEST DATA IN SUPPORT VECTOR MACHINE: 1.0\n",
            "CLASSIFICATION REPORT OF SUPPORT VECTOR MACHINE:\n",
            "               precision    recall  f1-score   support\n",
            "\n",
            "           0       1.00      1.00      1.00         3\n",
            "           1       1.00      1.00      1.00         3\n",
            "           2       1.00      1.00      1.00         5\n",
            "           3       1.00      1.00      1.00         9\n",
            "           4       1.00      1.00      1.00         6\n",
            "           5       1.00      1.00      1.00         5\n",
            "           6       1.00      1.00      1.00         9\n",
            "           7       1.00      1.00      1.00         7\n",
            "           8       1.00      1.00      1.00        11\n",
            "           9       1.00      1.00      1.00         9\n",
            "          10       1.00      1.00      1.00         8\n",
            "          11       1.00      1.00      1.00         9\n",
            "          12       1.00      1.00      1.00         5\n",
            "          13       1.00      1.00      1.00         9\n",
            "          14       1.00      1.00      1.00         7\n",
            "          15       1.00      1.00      1.00        19\n",
            "          16       1.00      1.00      1.00         3\n",
            "          17       1.00      1.00      1.00         4\n",
            "          18       1.00      1.00      1.00         5\n",
            "          19       1.00      1.00      1.00         6\n",
            "          20       1.00      1.00      1.00        11\n",
            "          21       1.00      1.00      1.00         4\n",
            "          22       1.00      1.00      1.00        13\n",
            "          23       1.00      1.00      1.00        15\n",
            "          24       1.00      1.00      1.00         8\n",
            "\n",
            "    accuracy                           1.00       193\n",
            "   macro avg       1.00      1.00      1.00       193\n",
            "weighted avg       1.00      1.00      1.00       193\n",
            "\n"
          ]
        }
      ]
    },
    {
      "cell_type": "code",
      "source": [
        "accuracy_svm = round(accuracy_score(y_test,pred_test_svm),4)\n",
        "precision_svm = round(precision_score(y_test,pred_test_svm,average = 'macro'),4)\n",
        "recall_svm = round(recall_score(y_test,pred_test_svm,average = 'macro'),4)\n",
        "f1_svm = round(f1_score(y_test,pred_test_svm,average = 'macro'),4)\n",
        "\n",
        "#Printing Accuracy, Recall, precision, F1_score\n",
        "print('Accuracy Score   : ',accuracy_svm )\n",
        "print('Precision Score  : ',precision_svm )\n",
        "print('Recall Score     : ', recall_svm)\n",
        "print('f1-Score         : ',f1_svm )"
      ],
      "metadata": {
        "colab": {
          "base_uri": "https://localhost:8080/"
        },
        "id": "l1LF1jf1XXo7",
        "outputId": "7f794f5d-f6bb-44c6-a035-c9d21bf204cd"
      },
      "execution_count": null,
      "outputs": [
        {
          "output_type": "stream",
          "name": "stdout",
          "text": [
            "Accuracy Score   :  1.0\n",
            "Precision Score  :  1.0\n",
            "Recall Score     :  1.0\n",
            "f1-Score         :  1.0\n"
          ]
        }
      ]
    },
    {
      "cell_type": "markdown",
      "source": [
        "# CONFUSION MATRIX"
      ],
      "metadata": {
        "id": "WIWhWrsaXdF7"
      }
    },
    {
      "cell_type": "code",
      "source": [
        "plt.figure(figsize=(20,15))\n",
        "\n",
        "plt.suptitle(\"Confusion Matrixes\", fontsize=18)\n",
        "\n",
        "plt.subplot(2,3,1)\n",
        "plt.title(\"LOGISTIC REGRESSION\")\n",
        "sns.heatmap(logistic_cm, cbar=False, annot=True, cmap=\"mako\",  fmt=\"d\")\n",
        "\n",
        "plt.subplot(2,3,2)\n",
        "plt.title(\"DECISION TREE\")\n",
        "sns.heatmap(dt_cm, cbar=False, annot=True, cmap=\"Blues\", fmt=\"d\")\n",
        "\n",
        "plt.subplot(2,3,3)\n",
        "plt.title(\"RANDOM FOREST CLASSIFICATION\")\n",
        "sns.heatmap(rf_cm, cbar=False, annot=True, cmap=\"BuPu\", fmt=\"d\")\n",
        "\n",
        "plt.subplot(2,3,4)\n",
        "plt.title(\"NaiveBayes Classification\")\n",
        "sns.heatmap(mb_cm, cbar=False, annot=True, cmap=\"Greens\", fmt=\"d\")\n",
        "\n",
        "plt.subplot(2,3,5)\n",
        "plt.title(\"SVM Classification\")\n",
        "sns.heatmap(svm_cm, cbar=False, annot=True, cmap=\"YlGnBu\",  fmt=\"d\")\n",
        "\n",
        "plt.show()"
      ],
      "metadata": {
        "colab": {
          "base_uri": "https://localhost:8080/",
          "height": 712
        },
        "id": "Ar2G9xkAXbp4",
        "outputId": "d7ac5aaa-7508-456f-c642-21e27f94cd07"
      },
      "execution_count": null,
      "outputs": [
        {
          "output_type": "display_data",
          "data": {
            "text/plain": [
              "<Figure size 1440x1080 with 5 Axes>"
            ],
            "image/png": "[encoded data removed]"
          },
          "metadata": {
            "needs_background": "light"
          }
        }
      ]
    },
    {
      "cell_type": "code",
      "source": [
        "table = {'Classifier' : ['LOGISTIC REGRESSION', 'DECISION TREE', 'RANDOM FOREST', 'MULTINOMIAL NAIVE BAYES', 'SUPPORT VECTOR MACHINE'], 'Accuracy_Score' : [accuracy_log, accuracy_dt, accuracy_rf, accuracy_mb, accuracy_svm], 'Precision_Score' : [precision_log, precision_dt, precision_rf, precision_mb, precision_svm], 'Recall_Score' : [recall_log, recall_dt, recall_rf, recall_mb, recall_svm], 'F1-Score' : [f1_log, f1_dt, f1_rf, f1_mb, f1_svm]}\n",
        "table = pd.DataFrame(table)\n",
        "table"
      ],
      "metadata": {
        "colab": {
          "base_uri": "https://localhost:8080/",
          "height": 206
        },
        "id": "VuEuPgKzXh7X",
        "outputId": "24c0ca40-ac6f-4472-f0de-045d6b039a89"
      },
      "execution_count": null,
      "outputs": [
        {
          "output_type": "execute_result",
          "data": {
            "text/plain": [
              "                Classifier  Accuracy_Score  Precision_Score  Recall_Score  \\\n",
              "0      LOGISTIC REGRESSION          0.9896           0.9940        0.9884   \n",
              "1            DECISION TREE          0.2591           0.0624        0.1440   \n",
              "2            RANDOM FOREST          1.0000           1.0000        1.0000   \n",
              "3  MULTINOMIAL NAIVE BAYES          0.9534           0.9746        0.9461   \n",
              "4   SUPPORT VECTOR MACHINE          1.0000           1.0000        1.0000   \n",
              "\n",
              "   F1-Score  \n",
              "0    0.9905  \n",
              "1    0.0768  \n",
              "2    1.0000  \n",
              "3    0.9524  \n",
              "4    1.0000  "
            ],
            "text/html": [
              "\n",
              "  <div id=\"df-ad54b739-4c6d-49d6-bacf-4fe22b702cec\">\n",
              "    <div class=\"colab-df-container\">\n",
              "      <div>\n",
              "<style scoped>\n",
              "    .dataframe tbody tr th:only-of-type {\n",
              "        vertical-align: middle;\n",
              "    }\n",
              "\n",
              "    .dataframe tbody tr th {\n",
              "        vertical-align: top;\n",
              "    }\n",
              "\n",
              "    .dataframe thead th {\n",
              "        text-align: right;\n",
              "    }\n",
              "</style>\n",
              "<table border=\"1\" class=\"dataframe\">\n",
              "  <thead>\n",
              "    <tr style=\"text-align: right;\">\n",
              "      <th></th>\n",
              "      <th>Classifier</th>\n",
              "      <th>Accuracy_Score</th>\n",
              "      <th>Precision_Score</th>\n",
              "      <th>Recall_Score</th>\n",
              "      <th>F1-Score</th>\n",
              "    </tr>\n",
              "  </thead>\n",
              "  <tbody>\n",
              "    <tr>\n",
              "      <th>0</th>\n",
              "      <td>LOGISTIC REGRESSION</td>\n",
              "      <td>0.9896</td>\n",
              "      <td>0.9940</td>\n",
              "      <td>0.9884</td>\n",
              "      <td>0.9905</td>\n",
              "    </tr>\n",
              "    <tr>\n",
              "      <th>1</th>\n",
              "      <td>DECISION TREE</td>\n",
              "      <td>0.2591</td>\n",
              "      <td>0.0624</td>\n",
              "      <td>0.1440</td>\n",
              "      <td>0.0768</td>\n",
              "    </tr>\n",
              "    <tr>\n",
              "      <th>2</th>\n",
              "      <td>RANDOM FOREST</td>\n",
              "      <td>1.0000</td>\n",
              "      <td>1.0000</td>\n",
              "      <td>1.0000</td>\n",
              "      <td>1.0000</td>\n",
              "    </tr>\n",
              "    <tr>\n",
              "      <th>3</th>\n",
              "      <td>MULTINOMIAL NAIVE BAYES</td>\n",
              "      <td>0.9534</td>\n",
              "      <td>0.9746</td>\n",
              "      <td>0.9461</td>\n",
              "      <td>0.9524</td>\n",
              "    </tr>\n",
              "    <tr>\n",
              "      <th>4</th>\n",
              "      <td>SUPPORT VECTOR MACHINE</td>\n",
              "      <td>1.0000</td>\n",
              "      <td>1.0000</td>\n",
              "      <td>1.0000</td>\n",
              "      <td>1.0000</td>\n",
              "    </tr>\n",
              "  </tbody>\n",
              "</table>\n",
              "</div>\n",
              "      <button class=\"colab-df-convert\" onclick=\"convertToInteractive('df-ad54b739-4c6d-49d6-bacf-4fe22b702cec')\"\n",
              "              title=\"Convert this dataframe to an interactive table.\"\n",
              "              style=\"display:none;\">\n",
              "        \n",
              "  <svg xmlns=\"http://www.w3.org/2000/svg\" height=\"24px\"viewBox=\"0 0 24 24\"\n",
              "       width=\"24px\">\n",
              "    <path d=\"M0 0h24v24H0V0z\" fill=\"none\"/>\n",
              "    <path d=\"M18.56 5.44l.94 2.06.94-2.06 2.06-.94-2.06-.94-.94-2.06-.94 2.06-2.06.94zm-11 1L8.5 8.5l.94-2.06 2.06-.94-2.06-.94L8.5 2.5l-.94 2.06-2.06.94zm10 10l.94 2.06.94-2.06 2.06-.94-2.06-.94-.94-2.06-.94 2.06-2.06.94z\"/><path d=\"M17.41 7.96l-1.37-1.37c-.4-.4-.92-.59-1.43-.59-.52 0-1.04.2-1.43.59L10.3 9.45l-7.72 7.72c-.78.78-.78 2.05 0 2.83L4 21.41c.39.39.9.59 1.41.59.51 0 1.02-.2 1.41-.59l7.78-7.78 2.81-2.81c.8-.78.8-2.07 0-2.86zM5.41 20L4 18.59l7.72-7.72 1.47 1.35L5.41 20z\"/>\n",
              "  </svg>\n",
              "      </button>\n",
              "      \n",
              "  <style>\n",
              "    .colab-df-container {\n",
              "      display:flex;\n",
              "      flex-wrap:wrap;\n",
              "      gap: 12px;\n",
              "    }\n",
              "\n",
              "    .colab-df-convert {\n",
              "      background-color: #E8F0FE;\n",
              "      border: none;\n",
              "      border-radius: 50%;\n",
              "      cursor: pointer;\n",
              "      display: none;\n",
              "      fill: #1967D2;\n",
              "      height: 32px;\n",
              "      padding: 0 0 0 0;\n",
              "      width: 32px;\n",
              "    }\n",
              "\n",
              "    .colab-df-convert:hover {\n",
              "      background-color: #E2EBFA;\n",
              "      box-shadow: 0px 1px 2px rgba(60, 64, 67, 0.3), 0px 1px 3px 1px rgba(60, 64, 67, 0.15);\n",
              "      fill: #174EA6;\n",
              "    }\n",
              "\n",
              "    [theme=dark] .colab-df-convert {\n",
              "      background-color: #3B4455;\n",
              "      fill: #D2E3FC;\n",
              "    }\n",
              "\n",
              "    [theme=dark] .colab-df-convert:hover {\n",
              "      background-color: #434B5C;\n",
              "      box-shadow: 0px 1px 3px 1px rgba(0, 0, 0, 0.15);\n",
              "      filter: drop-shadow(0px 1px 2px rgba(0, 0, 0, 0.3));\n",
              "      fill: #FFFFFF;\n",
              "    }\n",
              "  </style>\n",
              "\n",
              "      <script>\n",
              "        const buttonEl =\n",
              "          document.querySelector('#df-ad54b739-4c6d-49d6-bacf-4fe22b702cec button.colab-df-convert');\n",
              "        buttonEl.style.display =\n",
              "          google.colab.kernel.accessAllowed ? 'block' : 'none';\n",
              "\n",
              "        async function convertToInteractive(key) {\n",
              "          const element = document.querySelector('#df-ad54b739-4c6d-49d6-bacf-4fe22b702cec');\n",
              "          const dataTable =\n",
              "            await google.colab.kernel.invokeFunction('convertToInteractive',\n",
              "                                                     [key], {});\n",
              "          if (!dataTable) return;\n",
              "\n",
              "          const docLinkHtml = 'Like what you see? Visit the ' +\n",
              "            '<a target=\"_blank\" href=https://colab.research.google.com/notebooks/data_table.ipynb>data table notebook</a>'\n",
              "            + ' to learn more about interactive tables.';\n",
              "          element.innerHTML = '';\n",
              "          dataTable['output_type'] = 'display_data';\n",
              "          await google.colab.output.renderOutput(dataTable, element);\n",
              "          const docLink = document.createElement('div');\n",
              "          docLink.innerHTML = docLinkHtml;\n",
              "          element.appendChild(docLink);\n",
              "        }\n",
              "      </script>\n",
              "    </div>\n",
              "  </div>\n",
              "  "
            ]
          },
          "metadata": {},
          "execution_count": 54
        }
      ]
    },
    {
      "cell_type": "markdown",
      "source": [
        "#ACCURACY COMPARISION PLOT"
      ],
      "metadata": {
        "id": "a0AYoiztX4Ya"
      }
    },
    {
      "cell_type": "code",
      "source": [
        "#Accuracy\n",
        "plt.figure(figsize=(15,6))\n",
        "ax= sns.barplot(x=table.Classifier, y=table.Accuracy_Score, palette =sns.color_palette(\"Set2\") )\n",
        "ax.set_xticklabels(ax.get_xticklabels(),rotation=30)\n",
        "plt.xlabel('Classification Models')\n",
        "plt.ylabel('Accuracy')\n",
        "plt.title('Accuracy Scores of Classification Models')\n",
        "for i in ax.patches:\n",
        "    ax.text(i.get_x()+.19, i.get_height()-0.3, \\\n",
        "            str(round((i.get_height()), 4)), fontsize=15, color='b')\n",
        "plt.show()"
      ],
      "metadata": {
        "colab": {
          "base_uri": "https://localhost:8080/",
          "height": 445
        },
        "id": "V2Y71KIBX2Cg",
        "outputId": "ec0d88b5-fbf2-43fd-aa18-17c084c5fdaf"
      },
      "execution_count": null,
      "outputs": [
        {
          "output_type": "display_data",
          "data": {
            "text/plain": [
              "<Figure size 1080x432 with 1 Axes>"
            ],
            "image/png": "[encoded data removed]"
          },
          "metadata": {
            "needs_background": "light"
          }
        }
      ]
    },
    {
      "cell_type": "code",
      "source": [
        "import pickle\n",
        "from pickle import dump\n",
        "from pickle import load"
      ],
      "metadata": {
        "id": "PQTgIziOX9zW"
      },
      "execution_count": null,
      "outputs": []
    },
    {
      "cell_type": "code",
      "source": [
        " dump(RF ,open('Random_Forest_model.pkl','wb'))"
      ],
      "metadata": {
        "id": "g1taQVQUYe0q"
      },
      "execution_count": null,
      "outputs": []
    },
    {
      "cell_type": "code",
      "source": [
        "loaded_model = load(open('Random_Forest_model.pkl','rb'))"
      ],
      "metadata": {
        "id": "Or35DHgTYg6I"
      },
      "execution_count": null,
      "outputs": []
    },
    {
      "cell_type": "code",
      "source": [],
      "metadata": {
        "id": "dm3CByRnYiye"
      },
      "execution_count": null,
      "outputs": []
    }
  ]
}